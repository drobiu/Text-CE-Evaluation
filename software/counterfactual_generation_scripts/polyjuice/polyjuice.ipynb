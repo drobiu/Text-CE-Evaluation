{
 "cells": [
  {
   "cell_type": "code",
   "execution_count": 3,
   "id": "f15f1003",
   "metadata": {
    "scrolled": true
   },
   "outputs": [],
   "source": [
    "from datasets import load_dataset\n",
    "from polyjuice import Polyjuice\n",
    "\n",
    "import json\n",
    "import tqdm\n",
    "import transformers\n",
    "\n",
    "import numpy as np\n",
    "import pandas as pd"
   ]
  },
  {
   "cell_type": "code",
   "execution_count": null,
   "id": "d97eaf6d",
   "metadata": {},
   "outputs": [],
   "source": [
    "classifier_fomc = \"gtfintechlab/FOMC-RoBERTa\"\n",
    "\n",
    "dataset_id = \"TextCEsInFinance/fomc-communication-counterfactual\"\n",
    "\n",
    "dataset = load_dataset(dataset_id, encoding='utf-8')"
   ]
  },
  {
   "cell_type": "code",
   "execution_count": 7,
   "id": "402b8927",
   "metadata": {},
   "outputs": [],
   "source": [
    "# low = 100\n",
    "test = dataset['test'].to_pandas()[['text', 'label', 'text_label', 'target']]"
   ]
  },
  {
   "cell_type": "code",
   "execution_count": 4,
   "id": "5f36d6b2",
   "metadata": {},
   "outputs": [],
   "source": [
    "test = pd.read_csv('diff.csv', encoding='utf-8')"
   ]
  },
  {
   "cell_type": "code",
   "execution_count": null,
   "id": "6f7216e6",
   "metadata": {},
   "outputs": [],
   "source": [
    "test.iloc[8]"
   ]
  },
  {
   "cell_type": "code",
   "execution_count": 6,
   "id": "eee1917d",
   "metadata": {},
   "outputs": [],
   "source": [
    "results = []"
   ]
  },
  {
   "cell_type": "code",
   "execution_count": null,
   "id": "059bde5e",
   "metadata": {},
   "outputs": [],
   "source": [
    "pj = Polyjuice(model_path=\"uw-hai/polyjuice\", is_cuda=True)\n",
    "\n",
    "for i in tqdm.tqdm(range(len(test))):\n",
    "    # the base sentence\n",
    "    row = test.iloc[i]\n",
    "    text = row['text']\n",
    "    target = row['target']\n",
    "\n",
    "    # perturb the sentence with one line:\n",
    "    # When running it for the first time, the wrapper will automatically\n",
    "    # load related models, e.g. the generator and the perplexity filter.\n",
    "    perturbations = pj.perturb(text, num_beams=4, num_perturbations=5)\n",
    "    results.append({\n",
    "        'text': row['text'],\n",
    "        'label': row['label'],\n",
    "        'counterfactuals': perturbations,\n",
    "        'target': target,\n",
    "    })"
   ]
  },
  {
   "cell_type": "code",
   "execution_count": 8,
   "id": "6a4965df",
   "metadata": {},
   "outputs": [],
   "source": [
    "def np_encoder(object):\n",
    "    if isinstance(object, np.generic):\n",
    "        return object.item()\n",
    "\n",
    "with open('results_diff.json', 'w') as file:\n",
    "    file.write(json.dumps(results, default=np_encoder, indent=4))"
   ]
  },
  {
   "cell_type": "code",
   "execution_count": 11,
   "id": "dbacf40f",
   "metadata": {},
   "outputs": [],
   "source": [
    "pipe = transformers.pipeline(model=classifier_fomc, device=0)"
   ]
  },
  {
   "cell_type": "code",
   "execution_count": 12,
   "id": "da9bad80",
   "metadata": {},
   "outputs": [],
   "source": [
    "def classify(sentences):\n",
    "    classified = []\n",
    "    for out in pipe(sentences, batch_size=8, truncation=\"only_first\"):\n",
    "        label = out['label'].split(\"_\")[1]\n",
    "        out['label'] = int(label)\n",
    "        classified.append(out)\n",
    "    return classified"
   ]
  },
  {
   "cell_type": "code",
   "execution_count": 13,
   "id": "70c7fd47",
   "metadata": {
    "scrolled": true
   },
   "outputs": [],
   "source": [
    "def classify_results(results):\n",
    "    results = results.copy()\n",
    "    for result in results:\n",
    "        result['classification'] = classify(result['text'])\n",
    "        ces_classified = classify(result['counterfactuals'])\n",
    "        new_ces = [{'text': x, 'label': y['label'], 'score': y['score']} for x, y in zip(result['counterfactuals'], ces_classified)]\n",
    "        new_ces = sorted(new_ces, key=lambda x: x['score'], reverse=True)\n",
    "        result['counterfactuals'] = new_ces\n",
    "    return results"
   ]
  },
  {
   "cell_type": "code",
   "execution_count": 14,
   "id": "9ec994f1",
   "metadata": {},
   "outputs": [],
   "source": [
    "cl_results = classify_results(results)"
   ]
  },
  {
   "cell_type": "code",
   "execution_count": 15,
   "id": "f37e67e1",
   "metadata": {},
   "outputs": [],
   "source": [
    "with open('results_classified_diff.json', 'w') as file:\n",
    "    file.write(json.dumps(cl_results, default=np_encoder, indent=4))"
   ]
  },
  {
   "cell_type": "code",
   "execution_count": 33,
   "id": "b36ff069",
   "metadata": {},
   "outputs": [],
   "source": [
    "with open('results.json', 'r') as file:\n",
    "    old_results = json.load(file)\n",
    "    \n",
    "with open('results_1.json', 'r') as file:\n",
    "    old_results_1 = json.load(file)\n",
    "    \n",
    "old_results = old_results + old_results_1\n",
    "    \n",
    "with open('results_classified.json', 'r') as file:\n",
    "    old_results_classified = json.load(file)\n",
    "with open('results_classified_1.json', 'r') as file:\n",
    "    old_results_classified_1 = json.load(file)\n",
    "    \n",
    "old_results_classified = old_results_classified + old_results_classified_1"
   ]
  },
  {
   "cell_type": "code",
   "execution_count": null,
   "id": "e5a68fd8",
   "metadata": {},
   "outputs": [],
   "source": [
    "c = 0\n",
    "for i, old_result in enumerate(old_results_classified):\n",
    "    for result in results:\n",
    "        if old_result['text'] == result['text']:\n",
    "            c += 1\n",
    "            old_results_classified[i] = result\n",
    "c"
   ]
  },
  {
   "cell_type": "code",
   "execution_count": null,
   "id": "d17acfe3",
   "metadata": {},
   "outputs": [],
   "source": [
    "old_results_classified"
   ]
  },
  {
   "cell_type": "code",
   "execution_count": 39,
   "id": "cb5fa813",
   "metadata": {},
   "outputs": [],
   "source": [
    "with open('results_new.json', 'w') as file:\n",
    "    file.write(json.dumps(old_results_classified, default=np_encoder, indent=4))"
   ]
  },
  {
   "cell_type": "code",
   "execution_count": null,
   "id": "72e8927e",
   "metadata": {},
   "outputs": [],
   "source": []
  }
 ],
 "metadata": {
  "kernelspec": {
   "display_name": "polyjuice",
   "language": "python",
   "name": "polyjuice"
  },
  "language_info": {
   "codemirror_mode": {
    "name": "ipython",
    "version": 3
   },
   "file_extension": ".py",
   "mimetype": "text/x-python",
   "name": "python",
   "nbconvert_exporter": "python",
   "pygments_lexer": "ipython3",
   "version": "3.11.5"
  }
 },
 "nbformat": 4,
 "nbformat_minor": 5
}
