{
 "cells": [
  {
   "cell_type": "code",
   "execution_count": null,
   "id": "5470ca26",
   "metadata": {},
   "outputs": [],
   "source": [
    "import numpy as np\n",
    "import pandas as pd\n",
    "import json\n",
    "import transformers\n",
    "from datasets import load_dataset"
   ]
  },
  {
   "cell_type": "code",
   "execution_count": 18,
   "id": "1d53fd55",
   "metadata": {},
   "outputs": [],
   "source": [
    "with open(\"results_raw/pplm_results.json\", \"r\") as file:\n",
    "    pplm = json.loads(file.read())\n",
    "    \n",
    "relitc = []\n",
    "with open(\"results_raw/relitc_results.json\", \"r\", encoding='utf-8') as file:\n",
    "    for line in file.readlines():\n",
    "        relitc.append(json.loads(line))\n",
    "        \n",
    "with open(\"results_raw/polyjuice_results.json\", \"r\") as file:\n",
    "    polyjuice = json.loads(file.read())\n",
    "        \n",
    "with open(\"results_raw/poc.json\", \"r\") as file:\n",
    "    poc = json.loads(file.read())"
   ]
  },
  {
   "cell_type": "code",
   "execution_count": null,
   "id": "5e891c6a",
   "metadata": {},
   "outputs": [],
   "source": [
    "len(pplm)"
   ]
  },
  {
   "cell_type": "code",
   "execution_count": null,
   "id": "1e19d69c",
   "metadata": {},
   "outputs": [],
   "source": [
    "len(relitc)"
   ]
  },
  {
   "cell_type": "code",
   "execution_count": null,
   "id": "5a9146a6",
   "metadata": {},
   "outputs": [],
   "source": [
    "len(polyjuice)"
   ]
  },
  {
   "cell_type": "markdown",
   "id": "74743fe4",
   "metadata": {},
   "source": [
    "# PPLM"
   ]
  },
  {
   "cell_type": "code",
   "execution_count": 6,
   "id": "5bb0ee3d",
   "metadata": {},
   "outputs": [],
   "source": [
    "for row in pplm:\n",
    "    for i, ce in enumerate(row['counterfactuals']):\n",
    "        row['counterfactuals'][i] = ce[len(\"<|endoftext|>\"):]"
   ]
  },
  {
   "cell_type": "code",
   "execution_count": 7,
   "id": "f83b141b",
   "metadata": {},
   "outputs": [],
   "source": [
    "classifier_fomc = \"gtfintechlab/FOMC-RoBERTa\"\n",
    "\n",
    "pipe = transformers.pipeline(model=classifier_fomc, device=0)"
   ]
  },
  {
   "cell_type": "code",
   "execution_count": 8,
   "id": "a47666f7",
   "metadata": {},
   "outputs": [],
   "source": [
    "def classify(sentences):\n",
    "    classified = []\n",
    "    for text, out in zip(sentences, pipe(sentences, batch_size=8, truncation=\"only_first\")):\n",
    "        out['text'] = text\n",
    "        label = out['label'].split(\"_\")[1]\n",
    "        out['label'] = int(label)\n",
    "        classified.append(out)\n",
    "    return classified"
   ]
  },
  {
   "cell_type": "code",
   "execution_count": null,
   "id": "38a2602c",
   "metadata": {},
   "outputs": [],
   "source": [
    "for row in pplm:\n",
    "    row['counterfactuals'] = classify(row['counterfactuals'])"
   ]
  },
  {
   "cell_type": "code",
   "execution_count": null,
   "id": "3a51e0f8",
   "metadata": {
    "scrolled": true
   },
   "outputs": [],
   "source": [
    "dataset_id = \"TextCEsInFinance/fomc-communication-counterfactual\"\n",
    "\n",
    "dataset = load_dataset(dataset_id)['test'].to_pandas()"
   ]
  },
  {
   "cell_type": "code",
   "execution_count": 11,
   "id": "ce51a70f",
   "metadata": {},
   "outputs": [],
   "source": [
    "for i in range(len(pplm)):\n",
    "    pplm[i]['target'] = int(dataset.iloc[i]['target'])"
   ]
  },
  {
   "cell_type": "code",
   "execution_count": null,
   "id": "71728acc",
   "metadata": {},
   "outputs": [],
   "source": [
    "pplm[0]"
   ]
  },
  {
   "cell_type": "markdown",
   "id": "1f647dca",
   "metadata": {},
   "source": [
    "# RELITC"
   ]
  },
  {
   "cell_type": "code",
   "execution_count": null,
   "id": "61690dbc",
   "metadata": {},
   "outputs": [],
   "source": [
    "relitc[0]"
   ]
  },
  {
   "cell_type": "code",
   "execution_count": 22,
   "id": "ecab8dcd",
   "metadata": {},
   "outputs": [],
   "source": [
    "new_out = []\n",
    "outer_fields = ['id', 'text', 'target']\n",
    "\n",
    "for row in relitc:\n",
    "    new_row = {k: row[k] for k in row if k in outer_fields}\n",
    "    new_row['label'] = row['original_label']\n",
    "    new_row['id'] = int(new_row['id'].split('_')[1]) + 1\n",
    "    ces = []\n",
    "    if row['counterfactuals'] != []:\n",
    "        for ce in row['counterfactuals']:\n",
    "            ces.append({'text': ce['edited_output_text'], 'label': ce['pred_class'], 'score': ce['pred_proba']})\n",
    "    else:\n",
    "        best = row['results_best']['results'][0]\n",
    "        ce = best['edited_output_text'].replace('neutral : ', '').replace('hawkish : ', '').replace('dovish : ', '').capitalize()\n",
    "        ces = [{'text': ce, 'label': best['pred_class'], 'score': best['pred_proba']}]\n",
    "    new_row['counterfactuals'] = ces\n",
    "    new_out.append(new_row)\n",
    "\n",
    "relitc_out = new_out"
   ]
  },
  {
   "cell_type": "code",
   "execution_count": null,
   "id": "98e2c344",
   "metadata": {},
   "outputs": [],
   "source": [
    "relitc_out[0]"
   ]
  },
  {
   "cell_type": "code",
   "execution_count": null,
   "id": "f3ecd1f4",
   "metadata": {},
   "outputs": [],
   "source": [
    "polyjuice[0]"
   ]
  },
  {
   "cell_type": "code",
   "execution_count": 25,
   "id": "fcecb83f",
   "metadata": {},
   "outputs": [],
   "source": [
    "with open(\"results/pplm_results.json\", \"w\", encoding='utf-8') as file:\n",
    "    json.dump(pplm, file, indent=4)\n",
    "\n",
    "with open(\"results/relitc_results.json\", \"w\", encoding='utf-8') as file:\n",
    "    json.dump(relitc_out, file, indent=4)\n",
    "\n",
    "with open(\"results/polyjuice_results.json\", \"w\", encoding='utf-8') as file:\n",
    "    json.dump(polyjuice, file, indent=4)"
   ]
  },
  {
   "cell_type": "code",
   "execution_count": null,
   "id": "4057544d",
   "metadata": {},
   "outputs": [],
   "source": []
  }
 ],
 "metadata": {
  "kernelspec": {
   "display_name": "relitc",
   "language": "python",
   "name": "relitc"
  },
  "language_info": {
   "codemirror_mode": {
    "name": "ipython",
    "version": 3
   },
   "file_extension": ".py",
   "mimetype": "text/x-python",
   "name": "python",
   "nbconvert_exporter": "python",
   "pygments_lexer": "ipython3",
   "version": "3.10.14"
  }
 },
 "nbformat": 4,
 "nbformat_minor": 5
}
