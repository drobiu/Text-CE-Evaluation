{
 "cells": [
  {
   "cell_type": "code",
   "execution_count": null,
   "id": "106edf13",
   "metadata": {},
   "outputs": [],
   "source": [
    "import itertools\n",
    "import json\n",
    "import nltk\n",
    "import random\n",
    "import scipy\n",
    "import torch\n",
    "import tqdm\n",
    "\n",
    "import numpy as np\n",
    "import pandas as pd\n",
    "\n",
    "from evaluate import load\n",
    "from scipy.spatial import distance\n",
    "from transformers import (\n",
    "    RobertaTokenizerFast,\n",
    "    RobertaForSequenceClassification,\n",
    "    TrainingArguments,\n",
    "    Trainer,\n",
    "    AutoConfig,\n",
    ")\n",
    "from zss import simple_distance, Node\n",
    "\n",
    "nltk.download('punkt')\n",
    "nltk.download('averaged_perceptron_tagger')\n",
    "from nltk import pos_tag, word_tokenize, RegexpParser"
   ]
  },
  {
   "cell_type": "code",
   "execution_count": null,
   "id": "33ef8203",
   "metadata": {},
   "outputs": [],
   "source": [
    "with open(\"results/pplm_results.json\", \"r\", encoding='utf-8') as file:\n",
    "    pplm = json.loads(file.read())\n",
    "with open(\"results/relitc_results.json\", \"r\", encoding='utf-8') as file:\n",
    "    relitc = json.load(file)\n",
    "with open(\"results/polyjuice_results.json\", \"r\", encoding='utf-8') as file:\n",
    "    polyjuice = json.loads(file.read())\n",
    "with open(\"results/ground_truth.json\", \"r\", encoding='utf-8') as file:\n",
    "    gt = json.loads(file.read())"
   ]
  },
  {
   "cell_type": "markdown",
   "id": "500d8444",
   "metadata": {},
   "source": [
    "# Success rate"
   ]
  },
  {
   "cell_type": "code",
   "execution_count": null,
   "id": "f9feba13",
   "metadata": {},
   "outputs": [],
   "source": [
    "def success_rate(results):\n",
    "    i = 0\n",
    "    for row in results:\n",
    "        target = row['target']\n",
    "        row['success'] = False\n",
    "        for ce in row['counterfactuals']:\n",
    "            if ce['label'] == target:\n",
    "                i +=1\n",
    "                row['success'] = True\n",
    "                break\n",
    "                \n",
    "    return i / len(results)"
   ]
  },
  {
   "cell_type": "code",
   "execution_count": null,
   "id": "8bc7a1fa",
   "metadata": {},
   "outputs": [],
   "source": [
    "success_rate(pplm)"
   ]
  },
  {
   "cell_type": "code",
   "execution_count": null,
   "id": "1a81f26f",
   "metadata": {},
   "outputs": [],
   "source": [
    "success_rate(polyjuice)"
   ]
  },
  {
   "cell_type": "code",
   "execution_count": null,
   "id": "3c43618f",
   "metadata": {},
   "outputs": [],
   "source": [
    "success_rate(relitc)"
   ]
  },
  {
   "cell_type": "markdown",
   "id": "7ee97e98",
   "metadata": {},
   "source": [
    "# Faithfulness"
   ]
  },
  {
   "cell_type": "code",
   "execution_count": null,
   "id": "8e0b54a9",
   "metadata": {},
   "outputs": [],
   "source": [
    "def faithfulness(results):\n",
    "    res = []\n",
    "    for row, gt_row in zip(results, gt):\n",
    "        if len(row['counterfactuals']) == 0:\n",
    "            continue\n",
    "        \n",
    "        r = 1 * (gt_row['label'] == gt_row['classification']['label'])\n",
    "        \n",
    "        if not row['success']:\n",
    "            nce = np.random.choice(row['counterfactuals'], size=1)\n",
    "            if nce[0]['label'] == gt_row['label']:\n",
    "                r -= 1\n",
    "                \n",
    "        res.append(r)\n",
    "                \n",
    "    return np.mean(res), np.std(res)"
   ]
  },
  {
   "cell_type": "code",
   "execution_count": null,
   "id": "025942d5",
   "metadata": {},
   "outputs": [],
   "source": [
    "faithfulness(pplm)"
   ]
  },
  {
   "cell_type": "code",
   "execution_count": null,
   "id": "4f83b967",
   "metadata": {},
   "outputs": [],
   "source": [
    "faithfulness(polyjuice)"
   ]
  },
  {
   "cell_type": "code",
   "execution_count": null,
   "id": "add2be7e",
   "metadata": {},
   "outputs": [],
   "source": [
    "faithfulness(relitc)"
   ]
  },
  {
   "cell_type": "markdown",
   "id": "7cf3903a",
   "metadata": {},
   "source": [
    "# Create counterfactual dataset"
   ]
  },
  {
   "cell_type": "code",
   "execution_count": null,
   "id": "68022275",
   "metadata": {},
   "outputs": [],
   "source": [
    "original_strings = []\n",
    "pplm_strings = []\n",
    "polyjuice_strings = []\n",
    "relitc_strings = []\n",
    "mask = []\n",
    "labels = []\n",
    "targets = []\n",
    "\n",
    "for x_pplm, x_polyjuice, x_relitc in zip(pplm, polyjuice, relitc):\n",
    "    all_present = True\n",
    "    \n",
    "    for method, array in [(x_pplm, pplm_strings), (x_polyjuice, polyjuice_strings), (x_relitc, relitc_strings)]:\n",
    "        if method['success']:\n",
    "            best = 0\n",
    "            string = ''\n",
    "            for ce in method['counterfactuals']:\n",
    "                if ce['label'] == method['target'] and ce['score'] > best:\n",
    "                    string = ce['text']\n",
    "                    best = ce['score']\n",
    "        else:\n",
    "            if len(method['counterfactuals']) == 0:\n",
    "                all_present = False\n",
    "                string = ''\n",
    "            else:\n",
    "                string = method['counterfactuals'][0]['text']\n",
    "        array.append(string.replace(\"hawkish : \", \"\").replace(\"dovish : \", \"\").replace(\"neutral :\", \"\").capitalize())\n",
    "    \n",
    "    mask.append(all_present)\n",
    "    original_strings.append(x_pplm['text'])\n",
    "    labels.append(x_pplm['label'])\n",
    "    targets.append(x_pplm['target'])\n",
    "    \n",
    "out = pd.DataFrame.from_dict(data={'Fact_ID': np.arange(1, len(pplm)+1),\n",
    "                                    'Factual': original_strings, \n",
    "                                    'PPLM': pplm_strings, \n",
    "                                    'Polyjuice': polyjuice_strings, \n",
    "                                    'RELITC': relitc_strings,\n",
    "                                    'Label': labels, \n",
    "                                    'Target': targets,\n",
    "                                    'PPLM_Success': [x['success'] for x in pplm],\n",
    "                                    'Polyjuice_Success': [x['success'] for x in polyjuice],\n",
    "                                    'RELITC_Success': [x['success'] for x in relitc]})"
   ]
  },
  {
   "cell_type": "code",
   "execution_count": null,
   "id": "573b3272",
   "metadata": {},
   "outputs": [],
   "source": [
    "out = out.sample(frac=1, random_state = 2).reset_index(drop=True).reset_index().rename(columns={'index':'Question_ID'})"
   ]
  },
  {
   "cell_type": "code",
   "execution_count": null,
   "id": "9416f6f6",
   "metadata": {},
   "outputs": [],
   "source": [
    "copies = []\n",
    "for perm in itertools.permutations(['PPLM', 'Polyjuice', 'RELITC']):\n",
    "    copy = out.copy()\n",
    "    copy[['Method_1', 'Method_2', 'Method_3']] = perm\n",
    "    copies.append(copy)"
   ]
  },
  {
   "cell_type": "code",
   "execution_count": null,
   "id": "da97d62a",
   "metadata": {},
   "outputs": [],
   "source": [
    "out = pd.concat(copies).sort_values(['Question_ID'])"
   ]
  },
  {
   "cell_type": "code",
   "execution_count": null,
   "id": "6fd5daf6",
   "metadata": {},
   "outputs": [],
   "source": [
    "out = out.reset_index(drop=True)"
   ]
  },
  {
   "cell_type": "code",
   "execution_count": null,
   "id": "dafc64bb",
   "metadata": {},
   "outputs": [],
   "source": [
    "out"
   ]
  },
  {
   "cell_type": "code",
   "execution_count": null,
   "id": "b37a3720",
   "metadata": {},
   "outputs": [],
   "source": [
    "out.to_csv(\"survey/survey_data.csv\", index_label='Block_ID')"
   ]
  },
  {
   "cell_type": "markdown",
   "id": "c93805dd",
   "metadata": {},
   "source": [
    "# Overlapping sentences"
   ]
  },
  {
   "cell_type": "code",
   "execution_count": null,
   "id": "075e8118",
   "metadata": {},
   "outputs": [],
   "source": [
    "def overlapping_indexes(results):\n",
    "    out = []\n",
    "    for i, row in enumerate(results):\n",
    "        if row['success']:\n",
    "            out.append(i)\n",
    "    return out"
   ]
  },
  {
   "cell_type": "code",
   "execution_count": null,
   "id": "d1fb6aea",
   "metadata": {},
   "outputs": [],
   "source": [
    "over_pplm = overlapping_indexes(pplm)\n",
    "over_relitc = overlapping_indexes(relitc)\n",
    "over_polyjuice = overlapping_indexes(polyjuice)"
   ]
  },
  {
   "cell_type": "code",
   "execution_count": null,
   "id": "c8faf67d",
   "metadata": {
    "scrolled": true
   },
   "outputs": [],
   "source": [
    "len(np.intersect1d(np.intersect1d(over_pplm, over_relitc), over_polyjuice))"
   ]
  },
  {
   "cell_type": "markdown",
   "id": "41cdfd68",
   "metadata": {},
   "source": [
    "# Prepare counterfactuals"
   ]
  },
  {
   "cell_type": "code",
   "execution_count": null,
   "id": "c784903a",
   "metadata": {},
   "outputs": [],
   "source": [
    "def get_counterfactuals(results):\n",
    "    ces = []\n",
    "    for result in results:\n",
    "        if result['success']:\n",
    "            best = 0\n",
    "            string = ''\n",
    "            for ce in result['counterfactuals']:\n",
    "                if ce['label'] == result['target'] and ce['score'] > best:\n",
    "                    string = ce['text']\n",
    "                    best = ce['score']\n",
    "        else:\n",
    "            if len(result['counterfactuals']) == 0:\n",
    "                string = ''\n",
    "            else:\n",
    "                string = result['counterfactuals'][0]['text']\n",
    "                \n",
    "        string = string.replace(\"hawkish : \", \"\").replace(\"dovish : \", \"\").replace(\"neutral :\", \"\").capitalize()\n",
    "        if len(string) == 0:\n",
    "            string = None\n",
    "            \n",
    "        ces.append(string)\n",
    "    \n",
    "    return ces"
   ]
  },
  {
   "cell_type": "code",
   "execution_count": null,
   "id": "184d3fe1",
   "metadata": {},
   "outputs": [],
   "source": [
    "relitc_ces = get_counterfactuals(relitc)\n",
    "pplm_ces = get_counterfactuals(pplm)\n",
    "polyjuice_ces = get_counterfactuals(polyjuice)\n",
    "\n",
    "relitc_success = [x['success'] for x in relitc]\n",
    "pplm_success = [x['success'] for x in pplm]\n",
    "polyjuice_success = [x['success'] for x in polyjuice]\n",
    "\n",
    "factuals = [x['text'] for x in relitc]\n",
    "ids = [x['id'] for x in relitc]\n",
    "labels = [x['label'] for x in relitc]\n",
    "targets = [x['target'] for x in relitc]\n",
    "\n",
    "assert len(relitc_ces) == len(pplm_ces) == len(polyjuice_ces) == len(factuals) == len(ids)"
   ]
  },
  {
   "cell_type": "code",
   "execution_count": null,
   "id": "8d65c727",
   "metadata": {},
   "outputs": [],
   "source": [
    "data = {\n",
    "    'id': ids,\n",
    "    'factual': factuals,\n",
    "    'polyjuice': polyjuice_ces,\n",
    "    'pplm': pplm_ces,\n",
    "    'relitc': relitc_ces,\n",
    "    'label': labels,\n",
    "    'target': targets,\n",
    "    'polyjuice_success': polyjuice_success,\n",
    "    'pplm_success': pplm_success,\n",
    "    'relitc_success': relitc_success\n",
    "}\n",
    "\n",
    "counterfactuals = pd.DataFrame.from_dict(data).dropna()"
   ]
  },
  {
   "cell_type": "code",
   "execution_count": null,
   "id": "f32b6c82",
   "metadata": {},
   "outputs": [],
   "source": [
    "counterfactuals = pd.read_csv('metrics_calculated.csv')"
   ]
  },
  {
   "cell_type": "markdown",
   "id": "7a72d1f0",
   "metadata": {},
   "source": [
    "# Perplexity"
   ]
  },
  {
   "cell_type": "code",
   "execution_count": null,
   "id": "357ecd36",
   "metadata": {},
   "outputs": [],
   "source": [
    "perplexity = load(\"perplexity\", module_type=\"metric\")\n",
    "model_id = 'lxyuan/distilgpt2-finetuned-finance'\n",
    "row_ending = '_finance'"
   ]
  },
  {
   "cell_type": "code",
   "execution_count": null,
   "id": "fe3f19b6",
   "metadata": {
    "scrolled": false
   },
   "outputs": [],
   "source": [
    "perplexity_factual = perplexity.compute(predictions=counterfactuals['factual'], model_id=model_id)\n",
    "\n",
    "perplexity_pplm = perplexity.compute(predictions=counterfactuals['pplm'], model_id=model_id)\n",
    "\n",
    "perplexity_relitc = perplexity.compute(predictions=counterfactuals['relitc'], model_id=model_id)\n",
    "\n",
    "perplexity_polyjuice = perplexity.compute(predictions=counterfactuals['polyjuice'], model_id=model_id)"
   ]
  },
  {
   "cell_type": "code",
   "execution_count": null,
   "id": "0d5454a8",
   "metadata": {
    "scrolled": true
   },
   "outputs": [],
   "source": [
    "print(f\"Mean perplexity: PPLM {perplexity_pplm['mean_perplexity']}, RELITC {perplexity_relitc['mean_perplexity']}, Polyjuice {perplexity_polyjuice['mean_perplexity']}\")"
   ]
  },
  {
   "cell_type": "code",
   "execution_count": null,
   "id": "5c307083",
   "metadata": {},
   "outputs": [],
   "source": []
  },
  {
   "cell_type": "code",
   "execution_count": null,
   "id": "0b39975b",
   "metadata": {},
   "outputs": [],
   "source": [
    "counterfactuals[f'polyjuice_perplexity{row_ending}'] = perplexity_polyjuice['perplexities']\n",
    "counterfactuals[f'pplm_perplexity{row_ending}'] = perplexity_pplm['perplexities']\n",
    "counterfactuals[f'relitc_perplexity{row_ending}'] = perplexity_relitc['perplexities']\n",
    "counterfactuals[f'factual_perplexity{row_ending}'] = perplexity_factual['perplexities']"
   ]
  },
  {
   "cell_type": "code",
   "execution_count": null,
   "id": "af0d9ac8",
   "metadata": {
    "scrolled": true
   },
   "outputs": [],
   "source": [
    "print(f\"Mean perplexity:  PPLM {np.mean(perplexity_pplm['perplexities'])} ({np.std(perplexity_pplm['perplexities'])}), RELITC {np.mean(perplexity_relitc['perplexities'])} ({np.std(perplexity_relitc['perplexities'])}), Polyjuice {np.mean(perplexity_polyjuice['perplexities'])} ({np.std(perplexity_polyjuice['perplexities'])})\")"
   ]
  },
  {
   "cell_type": "markdown",
   "id": "34273cc4",
   "metadata": {},
   "source": [
    "gpt2 Mean perplexity:  PPLM 36.96563018292797 (16.888468914984436), RELITC 100.94388296360873 (125.2103380847652), Polyjuice 90.97536222496811 (172.05128632625437)\n",
    "\n",
    "facebook/opt-125m Mean perplexity:  PPLM 36.06742319379534 (15.906898235873141), RELITC 108.86210835125982 (153.81738769957212), Polyjuice 107.05753771918161 (291.9220278232838)\n",
    "\n",
    "lxyuan/distilgpt2-finetuned-finance Mean perplexity:  PPLM 43.89094138048133 (23.459948587720152), RELITC 119.99030995271644 (141.95862479447706), Polyjuice 104.06404116688942 (150.25669361509838)"
   ]
  },
  {
   "cell_type": "code",
   "execution_count": null,
   "id": "703aad1a",
   "metadata": {},
   "outputs": [],
   "source": [
    "perp_ratio_polyjuice = np.array(counterfactuals[f'polyjuice_perplexity{row_ending}'])/np.array(counterfactuals[f'factual_perplexity{row_ending}'])\n",
    "perp_ratio_pplm = np.array(counterfactuals[f'pplm_perplexity{row_ending}'])/np.array(counterfactuals[f'factual_perplexity{row_ending}'])\n",
    "perp_ratio_relitc = np.array(counterfactuals[f'relitc_perplexity{row_ending}'])/np.array(counterfactuals[f'factual_perplexity{row_ending}'])"
   ]
  },
  {
   "cell_type": "code",
   "execution_count": null,
   "id": "08393d1f",
   "metadata": {},
   "outputs": [],
   "source": [
    "print(f\"Mean perplexity ratio: PPLM {np.mean(perp_ratio_pplm)} ({np.std(perp_ratio_pplm)}), RELITC {np.mean(perp_ratio_relitc)} ({np.std(perp_ratio_relitc)}), Polyjuice {np.mean(perp_ratio_polyjuice)} ({np.std(perp_ratio_polyjuice)})\")"
   ]
  },
  {
   "cell_type": "markdown",
   "id": "8e6dd2bc",
   "metadata": {},
   "source": [
    "gpt2 Mean perplexity ratio: PPLM 0.7825383744866578 (0.45501397950664685), RELITC 1.6701788089491778 (1.160213137606713), Polyjuice 1.7966660528593301 (4.570208204237788)\n",
    "\n",
    "facebook/opt-125m Mean perplexity ratio: PPLM 0.6846708977679352 (0.3876675021703708), RELITC 1.52035572506549 (0.8401463845005294), Polyjuice 1.8977431251370729 (7.945316275893119)\n",
    "\n",
    "lxyuan/distilgpt2-finetuned-finance Mean perplexity ratio: PPLM 0.6892793996521159 (0.40347158098998825), RELITC 1.5177018800599018 (1.0019046096414141), Polyjuice 1.6296250138552448 (3.836941709718984)"
   ]
  },
  {
   "cell_type": "markdown",
   "id": "e472249f",
   "metadata": {},
   "source": [
    "# Edit Distance"
   ]
  },
  {
   "cell_type": "code",
   "execution_count": null,
   "id": "74dd5b8f",
   "metadata": {},
   "outputs": [],
   "source": [
    "# https://github.com/RedTeamingforLLMs/RedTeamingforLLMs/blob/main/utils/metrics.py\n",
    "def levenshtein(a, b):\n",
    "    # We want a to be the (potentially) longer string\n",
    "    if len(a) > len(b):\n",
    "        a, b = b, a\n",
    "\n",
    "    distances = range(len(a) + 1)\n",
    "    for b_index, b_element in enumerate(b):\n",
    "        min_distances = [b_index + 1]\n",
    "\n",
    "        for a_index, a_element in enumerate(a):\n",
    "            if a_element == b_element:\n",
    "                min_distances.append(distances[a_index])\n",
    "            else:\n",
    "                min_distances.append(\n",
    "                    1 + min(distances[a_index], distances[a_index + 1], min_distances[-1]))\n",
    "\n",
    "        distances = min_distances\n",
    "    return distances[0 - 1]"
   ]
  },
  {
   "cell_type": "code",
   "execution_count": null,
   "id": "1b4fe8bf",
   "metadata": {},
   "outputs": [],
   "source": [
    "pplm_dist = [levenshtein(cont, fact)/len(fact) for cont, fact in zip(counterfactuals['pplm'], counterfactuals['factual'])]\n",
    "\n",
    "relitc_dist = [levenshtein(cont, fact)/len(fact) for cont, fact in zip(counterfactuals['relitc'], counterfactuals['factual'])]\n",
    "\n",
    "polyjuice_dist = [levenshtein(cont, fact)/len(fact) for cont, fact in zip(counterfactuals['polyjuice'], counterfactuals['factual'])]"
   ]
  },
  {
   "cell_type": "code",
   "execution_count": null,
   "id": "e0cd0a2c",
   "metadata": {},
   "outputs": [],
   "source": [
    "print(f\"Mean edit distance: PPLM {np.mean(pplm_dist)}, RELITC {np.mean(relitc_dist)}, Polyjuice {np.mean(polyjuice_dist)}\")"
   ]
  },
  {
   "cell_type": "code",
   "execution_count": null,
   "id": "60dd8968",
   "metadata": {},
   "outputs": [],
   "source": [
    "counterfactuals['polyjuice_edit_distance'] = polyjuice_dist\n",
    "counterfactuals['pplm_edit_distance'] = pplm_dist\n",
    "counterfactuals['relitc_edit_distance'] = relitc_dist"
   ]
  },
  {
   "cell_type": "markdown",
   "id": "6219ffa0",
   "metadata": {},
   "source": [
    "# Tree edit distance"
   ]
  },
  {
   "cell_type": "code",
   "execution_count": null,
   "id": "4e400579",
   "metadata": {},
   "outputs": [],
   "source": [
    "# Source: https://www.geeksforgeeks.org/syntax-tree-natural-language-processing/\n",
    "\n",
    "#Extract all parts of speech from any text\n",
    "chunker = RegexpParser(\"\"\"\n",
    "                       NP: {<DT>?<JJ>*<NN>}    #To extract Noun Phrases\n",
    "                       P: {<IN>}               #To extract Prepositions\n",
    "                       V: {<V.*>}              #To extract Verbs\n",
    "                       PP: {<p> <NP>}          #To extract Prepositional Phrases\n",
    "                       VP: {<V> <NP|PP>*}      #To extract Verb Phrases\n",
    "                       \"\"\")\n",
    "\n",
    "def get_tree(text):\n",
    "    # Find all parts of speech in above sentence\n",
    "    tagged = pos_tag(word_tokenize(text))\n",
    "\n",
    "    # Print all parts of speech in above sentence\n",
    "    output = chunker.parse(tagged)\n",
    "    return output"
   ]
  },
  {
   "cell_type": "code",
   "execution_count": null,
   "id": "e291f4ae",
   "metadata": {},
   "outputs": [],
   "source": [
    "def traverse_tree(tree):\n",
    "    \n",
    "    zss_tree = Node(tree.label())\n",
    "    \n",
    "    for subtree in tree:\n",
    "        if type(subtree) == nltk.tree.Tree:\n",
    "            zss_tree = zss_tree.addkid(traverse_tree(subtree))\n",
    "        else:\n",
    "            zss_tree = zss_tree.addkid(Node(subtree[0]))\n",
    "            \n",
    "    return zss_tree"
   ]
  },
  {
   "cell_type": "code",
   "execution_count": null,
   "id": "11359e6d",
   "metadata": {},
   "outputs": [],
   "source": [
    "def get_zss(text):\n",
    "    \n",
    "    tree = get_tree(text)\n",
    "    \n",
    "    return traverse_tree(tree)"
   ]
  },
  {
   "cell_type": "code",
   "execution_count": null,
   "id": "905086c5",
   "metadata": {},
   "outputs": [],
   "source": [
    "def tree_edit_dist(text_a, text_b):\n",
    "    return simple_distance(get_zss(text_a), get_zss(text_b))"
   ]
  },
  {
   "cell_type": "code",
   "execution_count": null,
   "id": "351ce0ef",
   "metadata": {},
   "outputs": [],
   "source": [
    "pplm_tree_dist = [tree_edit_dist(cont, fact) for cont, fact in zip(counterfactuals['pplm'], counterfactuals['factual'])]\n",
    "relitc_tree_dist = [tree_edit_dist(cont, fact) for cont, fact in zip(counterfactuals['relitc'], counterfactuals['factual'])]\n",
    "polyjuice_tree_dist = [tree_edit_dist(cont, fact) for cont, fact in zip(counterfactuals['polyjuice'], counterfactuals['factual'])]"
   ]
  },
  {
   "cell_type": "code",
   "execution_count": null,
   "id": "e75cd0bd",
   "metadata": {},
   "outputs": [],
   "source": [
    "print(f\"Mean tree edit distance: PPLM {np.mean(pplm_tree_dist)}, RELITC {np.mean(relitc_tree_dist)}, Polyjuice {np.mean(polyjuice_tree_dist)}\")"
   ]
  },
  {
   "cell_type": "code",
   "execution_count": null,
   "id": "bec7396f",
   "metadata": {},
   "outputs": [],
   "source": [
    "counterfactuals['polyjuice_tree_edit_distance'] = polyjuice_tree_dist\n",
    "counterfactuals['pplm_tree_edit_distance'] = pplm_tree_dist\n",
    "counterfactuals['relitc_tree_edit_distance'] = relitc_tree_dist"
   ]
  },
  {
   "cell_type": "markdown",
   "id": "6ee67922",
   "metadata": {},
   "source": [
    "# Embedding distance"
   ]
  },
  {
   "cell_type": "code",
   "execution_count": null,
   "id": "bd70be21",
   "metadata": {},
   "outputs": [],
   "source": [
    "model_id = \"gtfintechlab/FOMC-RoBERTa\"\n",
    "tokenizer = RobertaTokenizerFast.from_pretrained(model_id)\n",
    "config = AutoConfig.from_pretrained(model_id)\n",
    "model = RobertaForSequenceClassification.from_pretrained(model_id, config=config).cuda()\n"
   ]
  },
  {
   "cell_type": "code",
   "execution_count": null,
   "id": "b982cb4b",
   "metadata": {},
   "outputs": [],
   "source": [
    "def get_embeddings(texts):\n",
    "    idxs = [x for x in range(0, len(texts), 32)]\n",
    "    idxs.append(len(texts))\n",
    "\n",
    "    hiddens = []\n",
    "    for i in tqdm.tqdm(range(len(idxs)-1)):\n",
    "        tokens = tokenizer(texts[idxs[i]:idxs[i+1]], return_tensors=\"pt\", padding=True).to('cuda')\n",
    "        embedding = model(**tokens, output_hidden_states=True).hidden_states[-1].detach()[:, -1, :]\n",
    "        hiddens += embedding\n",
    "    return torch.stack(hiddens).cpu()"
   ]
  },
  {
   "cell_type": "code",
   "execution_count": null,
   "id": "f2a6a696",
   "metadata": {},
   "outputs": [],
   "source": [
    "names = ['polyjuice', 'pplm', 'relitc']\n",
    "classes = [0, 1, 2]\n",
    "\n",
    "embeddings = {}\n",
    "cl_emb = {c: get_embeddings(counterfactuals['factual'][counterfactuals['label'] == c].to_list()) for c in classes}\n",
    "embeddings['factual'] = cl_emb\n",
    "\n",
    "for name in names:    \n",
    "    cl_emb = get_embeddings(counterfactuals[name].to_list())\n",
    "    embeddings[name] = cl_emb"
   ]
  },
  {
   "cell_type": "code",
   "execution_count": null,
   "id": "abf00aae",
   "metadata": {},
   "outputs": [],
   "source": [
    "def get_embedding_distance(cfs):\n",
    "    out = []\n",
    "    for i in range(len(counterfactuals)):\n",
    "        out.append(np.min(distance.cdist([cfs[i]], embeddings['factual'][counterfactuals.iloc[i]['target']])))\n",
    "    return out"
   ]
  },
  {
   "cell_type": "code",
   "execution_count": null,
   "id": "a54ec89e",
   "metadata": {},
   "outputs": [],
   "source": [
    "get_embedding_distance(embeddings['polyjuice'])"
   ]
  },
  {
   "cell_type": "code",
   "execution_count": null,
   "id": "765a8486",
   "metadata": {},
   "outputs": [],
   "source": [
    "counterfactuals['polyjuice_embedding_distance'] = get_embedding_distance(embeddings['polyjuice'])\n",
    "counterfactuals['pplm_embedding_distance'] = get_embedding_distance(embeddings['pplm'])\n",
    "counterfactuals['relitc_embedding_distance'] = get_embedding_distance(embeddings['relitc'])"
   ]
  },
  {
   "cell_type": "code",
   "execution_count": null,
   "id": "5deb526b",
   "metadata": {},
   "outputs": [],
   "source": [
    "min_distances = {name: {cl: distance.cdist(embeddings[name][cl], embeddings['factual'][cl]).min(axis=1) for cl in classes} for name in names}"
   ]
  },
  {
   "cell_type": "code",
   "execution_count": null,
   "id": "902c2528",
   "metadata": {},
   "outputs": [],
   "source": [
    "min_distances"
   ]
  },
  {
   "cell_type": "code",
   "execution_count": null,
   "id": "6eed0b97",
   "metadata": {},
   "outputs": [],
   "source": [
    "min_distances_mean = {name: np.mean(np.concatenate([min_distances[name][cl] for cl in classes])) for name in names}"
   ]
  },
  {
   "cell_type": "code",
   "execution_count": null,
   "id": "27918562",
   "metadata": {},
   "outputs": [],
   "source": [
    "min_distances_mean"
   ]
  },
  {
   "cell_type": "code",
   "execution_count": null,
   "id": "58c3eb7f",
   "metadata": {},
   "outputs": [],
   "source": [
    "embeddings"
   ]
  },
  {
   "cell_type": "code",
   "execution_count": null,
   "id": "24c4d4f7",
   "metadata": {},
   "outputs": [],
   "source": [
    "n_samples = 50\n",
    "indices = {c: torch.randperm(len(embeddings['factual'][c]))[:n_samples] for c in classes} # Random indices for subsampling target class embeddings\n",
    "\n",
    "def get_implausibility(cfs):\n",
    "    out = []\n",
    "    for i in range(len(counterfactuals)):\n",
    "        target = counterfactuals.iloc[i]['target']\n",
    "        out.append(np.mean(distance.cdist([cfs[i]], embeddings['factual'][target][indices[target]])))\n",
    "    return out"
   ]
  },
  {
   "cell_type": "code",
   "execution_count": null,
   "id": "ddadfd4e",
   "metadata": {},
   "outputs": [],
   "source": [
    "implausibilities = {name: get_implausibility(embeddings[name]) for name in names}"
   ]
  },
  {
   "cell_type": "code",
   "execution_count": null,
   "id": "801d7013",
   "metadata": {},
   "outputs": [],
   "source": [
    "counterfactuals['polyjuice_implausibility'] = implausibilities['polyjuice']\n",
    "counterfactuals['pplm_implausibility'] = implausibilities['pplm']\n",
    "counterfactuals['relitc_implausibility'] = implausibilities['relitc']"
   ]
  },
  {
   "cell_type": "code",
   "execution_count": null,
   "id": "9632f18b",
   "metadata": {},
   "outputs": [],
   "source": [
    "implausibilities_mean = {name: np.mean(implausibilities[name]) for name in implausibilities}"
   ]
  },
  {
   "cell_type": "code",
   "execution_count": null,
   "id": "bad09382",
   "metadata": {},
   "outputs": [],
   "source": [
    "implausibilities_mean"
   ]
  },
  {
   "cell_type": "code",
   "execution_count": null,
   "id": "993639f8",
   "metadata": {},
   "outputs": [],
   "source": [
    "counterfactuals.to_csv('metrics_calculated.csv')"
   ]
  },
  {
   "cell_type": "markdown",
   "id": "638f2371",
   "metadata": {},
   "source": [
    "# Tables"
   ]
  },
  {
   "cell_type": "code",
   "execution_count": null,
   "id": "f2f9f7f8",
   "metadata": {},
   "outputs": [],
   "source": [
    "counterfactuals = pd.read_csv('metrics_calculated.csv')"
   ]
  },
  {
   "cell_type": "code",
   "execution_count": null,
   "id": "a8181250",
   "metadata": {},
   "outputs": [],
   "source": [
    "counterfactuals.iloc[:8][['polyjuice_success', 'pplm_success', 'relitc_success']]"
   ]
  },
  {
   "cell_type": "code",
   "execution_count": null,
   "id": "854d18db",
   "metadata": {},
   "outputs": [],
   "source": [
    "def get_table(df, success_only=False):\n",
    "    generators = ['Polyjuice', 'PPLM', 'RELITC']\n",
    "\n",
    "    metrics = [\n",
    "        ('Perplexity', [], []),\n",
    "        ('Perplexity ratio', [], []),\n",
    "        ('Edit distance', [], []),\n",
    "        ('Tree edit distance', [], []),\n",
    "        ('Embedding distance', [], []),\n",
    "        ('Implausibility', [], []),\n",
    "        ('Success rate', [], []),\n",
    "    ]\n",
    "    \n",
    "    for generator in generators:\n",
    "        curr_df = df\n",
    "        gen_lower = generator.lower()\n",
    "        \n",
    "        if success_only:\n",
    "            curr_df = df[df[f'{gen_lower}_success'] == True]\n",
    "        \n",
    "        metrics[0][1].append(np.mean(curr_df[f'{gen_lower}_perplexity']))\n",
    "        metrics[1][1].append(np.mean(np.array(curr_df[f'{gen_lower}_perplexity'])/np.array(curr_df[f'factual_perplexity'])))\n",
    "        metrics[2][1].append(np.mean(curr_df[f'{gen_lower}_edit_distance']))\n",
    "        metrics[3][1].append(np.mean(curr_df[f'{gen_lower}_tree_edit_distance']))\n",
    "        metrics[4][1].append(np.mean(curr_df[f'{gen_lower}_embedding_distance']))\n",
    "        metrics[5][1].append(np.mean(curr_df[f'{gen_lower}_implausibility']))\n",
    "        metrics[6][1].append(np.mean(curr_df[f'{gen_lower}_success']))\n",
    "        \n",
    "        metrics[0][2].append(np.std(curr_df[f'{gen_lower}_perplexity']))\n",
    "        metrics[1][2].append(np.std(np.array(curr_df[f'{gen_lower}_perplexity'])/np.array(curr_df[f'factual_perplexity'])))\n",
    "        metrics[2][2].append(np.std(curr_df[f'{gen_lower}_edit_distance']))\n",
    "        metrics[3][2].append(np.std(curr_df[f'{gen_lower}_tree_edit_distance']))\n",
    "        metrics[4][2].append(np.std(curr_df[f'{gen_lower}_embedding_distance']))\n",
    "        metrics[5][2].append(np.std(curr_df[f'{gen_lower}_implausibility']))\n",
    "        metrics[6][2].append(np.std(curr_df[f'{gen_lower}_success']))\n",
    "        \n",
    "    if success_only:\n",
    "        metrics = metrics[:-1]\n",
    "    \n",
    "    out = ''\n",
    "    \n",
    "    out += '|   |'\n",
    "    for metric in metrics:\n",
    "        out += f' {metric[0]} |'\n",
    "    \n",
    "    out += '\\n'\n",
    "    out += '|---|'\n",
    "    \n",
    "    for _ in range(len(metrics)):\n",
    "        out += f'---|'\n",
    "        \n",
    "    out += '\\n'\n",
    "    \n",
    "    for i, gen in enumerate(generators):\n",
    "        \n",
    "        out += f'| {gen} |'\n",
    "        \n",
    "        for metric in metrics:\n",
    "            out += f' {metric[1][i]:.2f} ({metric[2][i]:.1f}) |'\n",
    "            \n",
    "        out += '\\n'\n",
    "        \n",
    "    return out   "
   ]
  },
  {
   "cell_type": "code",
   "execution_count": null,
   "id": "39671123",
   "metadata": {},
   "outputs": [],
   "source": [
    "print(get_table(counterfactuals))"
   ]
  },
  {
   "cell_type": "markdown",
   "id": "af53a3a1",
   "metadata": {},
   "source": [
    "|   | Perplexity | Perplexity ratio | Edit distance | Tree edit distance | Embedding distance | Success rate |\n",
    "|---|---|---|---|---|---|---|\n",
    "| Polyjuice | 90.975 | 1.797 | 0.307 | 19.667 | 20.323 | 0.339 |\n",
    "| PPLM | 36.966 | 0.783 | 0.689 | 36.941 | 20.885 | 0.506 |\n",
    "| RELITC | 100.944 | 1.670 | 0.145 | 10.724 | 21.961 | 0.737 |"
   ]
  },
  {
   "cell_type": "code",
   "execution_count": null,
   "id": "119924a3",
   "metadata": {
    "scrolled": true
   },
   "outputs": [],
   "source": [
    "print(get_table(counterfactuals, True))"
   ]
  },
  {
   "cell_type": "markdown",
   "id": "387e9550",
   "metadata": {},
   "source": [
    "|   | Perplexity | Perplexity ratio | Edit distance | Tree edit distance | Embedding distance | Success rate |\n",
    "|---|---|---|---|---|---|---|\n",
    "| Polyjuice | 99.642 | 1.908 | 0.363 | 22.102 | 20.354 | 1.000 |\n",
    "| PPLM | 36.643 | 0.772 | 0.758 | 36.254 | 20.691 | 1.000 |\n",
    "| RELITC | 104.039 | 1.680 | 0.121 | 9.903 | 21.841 | 1.000 |"
   ]
  },
  {
   "cell_type": "code",
   "execution_count": null,
   "id": "9ec6c248",
   "metadata": {},
   "outputs": [],
   "source": [
    "print(get_table(counterfactuals[counterfactuals['target'] == 0]))"
   ]
  },
  {
   "cell_type": "code",
   "execution_count": null,
   "id": "930acaea",
   "metadata": {},
   "outputs": [],
   "source": [
    "print(get_table(counterfactuals[counterfactuals['target'] == 1]))"
   ]
  },
  {
   "cell_type": "code",
   "execution_count": null,
   "id": "558f8e93",
   "metadata": {},
   "outputs": [],
   "source": [
    "print(get_table(counterfactuals[counterfactuals['target'] == 2]))"
   ]
  },
  {
   "cell_type": "code",
   "execution_count": null,
   "id": "281fb77d",
   "metadata": {},
   "outputs": [],
   "source": [
    "print(get_table(counterfactuals[counterfactuals['label'] == 0]))"
   ]
  },
  {
   "cell_type": "code",
   "execution_count": null,
   "id": "9825b529",
   "metadata": {},
   "outputs": [],
   "source": [
    "print(get_table(counterfactuals[counterfactuals['label'] == 1]))"
   ]
  },
  {
   "cell_type": "code",
   "execution_count": null,
   "id": "cd56404f",
   "metadata": {},
   "outputs": [],
   "source": [
    "print(get_table(counterfactuals[counterfactuals['label'] == 2]))"
   ]
  },
  {
   "cell_type": "code",
   "execution_count": null,
   "id": "4b2b7a16",
   "metadata": {},
   "outputs": [],
   "source": [
    "from sklearn.manifold import TSNE\n",
    "from sklearn.decomposition import PCA\n",
    "\n",
    "import matplotlib.pyplot as plt"
   ]
  },
  {
   "cell_type": "code",
   "execution_count": null,
   "id": "49efa561",
   "metadata": {},
   "outputs": [],
   "source": [
    "plt_names = ['factual', 'polyjuice', 'pplm', 'relitc']\n",
    "classes = [0, 1, 2]\n",
    "\n",
    "points = {\n",
    "    'embeddings': [],\n",
    "    'labels': [],\n",
    "    'names': [],\n",
    "    'idxs': []\n",
    "}\n",
    "\n",
    "for i, name in enumerate(names):\n",
    "    for j, cl in enumerate(classes):\n",
    "        for embedding in embeddings[name][cl]:\n",
    "            points['embeddings'].append(embedding)\n",
    "            points['labels'].append(cl)\n",
    "            points['names'].append(name)\n",
    "            points['idxs'].append(j * len(classes) * 2 + i)\n",
    "            "
   ]
  },
  {
   "cell_type": "code",
   "execution_count": null,
   "id": "28d5bc23",
   "metadata": {},
   "outputs": [],
   "source": [
    "pca = PCA(n_components=2).fit(np.array(points['embeddings']))"
   ]
  },
  {
   "cell_type": "code",
   "execution_count": null,
   "id": "fcb8a009",
   "metadata": {},
   "outputs": [],
   "source": [
    "ex = []\n",
    "for i, name in enumerate(names):\n",
    "    for j, cl in enumerate(classes):\n",
    "        ex.append([j * len(classes) * 2 + i, f'{name} class {cl}'])\n",
    "\n",
    "labs = [f'{name} class {cl}' for name, cl in zip(points['names'], points['labels'])]\n",
    "\n",
    "plt.scatter(points['tsne'][:, 0], points['tsne'][:, 1], c=points['idxs'], cmap='viridis')\n",
    "\n",
    "\n",
    "plt.show()"
   ]
  },
  {
   "cell_type": "code",
   "execution_count": null,
   "id": "220f1ecd",
   "metadata": {},
   "outputs": [],
   "source": [
    "counterfactuals"
   ]
  },
  {
   "cell_type": "code",
   "execution_count": null,
   "id": "54e762be",
   "metadata": {},
   "outputs": [],
   "source": [
    "fig, (ax1, ax2, ax3) = plt.subplots(1, 3, sharey=True, figsize=(15, 5))\n",
    "ax1.scatter(counterfactuals['factual_perplexity'], counterfactuals['polyjuice_perplexity'])\n",
    "ax2.scatter(counterfactuals['factual_perplexity'], counterfactuals['pplm_perplexity'])\n",
    "ax3.scatter(counterfactuals['factual_perplexity'], counterfactuals['relitc_perplexity'])\n",
    "plt.ylim(bottom=-13, top=750)\n",
    "\n",
    "print(\n",
    "    f\"\"\"\n",
    "    Pearson r perplexity factual vs counterfactual\n",
    "    Polyjuice: {scipy.stats.pearsonr(counterfactuals['factual_perplexity'], counterfactuals['polyjuice_perplexity'])}\n",
    "    PPLM: {scipy.stats.pearsonr(counterfactuals['factual_perplexity'], counterfactuals['pplm_perplexity'])}\n",
    "    RELITC: {scipy.stats.pearsonr(counterfactuals['factual_perplexity'], counterfactuals['relitc_perplexity'])}\n",
    "    \"\"\"\n",
    ")"
   ]
  },
  {
   "cell_type": "code",
   "execution_count": null,
   "id": "93d971b6",
   "metadata": {},
   "outputs": [],
   "source": [
    "non_expert = pd.read_csv('survey_results/non-expert_mean_results.csv')\n",
    "\n",
    "ids = np.array(non_expert['id'])\n",
    "\n",
    "ordered = counterfactuals.set_index('id').loc[ids-1]\n",
    "\n",
    "fig, (ax1, ax2, ax3) = plt.subplots(1, 3, sharey=True, figsize=(15, 5))\n",
    "ax1.scatter(ordered['polyjuice_perplexity'], non_expert['polyjuice'])\n",
    "ax2.scatter(ordered['pplm_perplexity'], non_expert['pplm'])\n",
    "ax3.scatter(ordered['relitc_perplexity'], non_expert['relitc'])"
   ]
  },
  {
   "cell_type": "code",
   "execution_count": null,
   "id": "a7cabfdc",
   "metadata": {},
   "outputs": [],
   "source": [
    "plt.scatter(ordered['polyjuice_perplexity'], non_expert['polyjuice'], label='Polyjuice')\n",
    "plt.scatter(ordered['pplm_perplexity'], non_expert['pplm'], label='PPLM')\n",
    "plt.scatter(ordered['relitc_perplexity'], non_expert['relitc'], label='RELITC')\n",
    "plt.legend()"
   ]
  },
  {
   "cell_type": "code",
   "execution_count": null,
   "id": "24c76afb",
   "metadata": {},
   "outputs": [],
   "source": []
  },
  {
   "cell_type": "code",
   "execution_count": null,
   "id": "3d67d9fa",
   "metadata": {
    "scrolled": false
   },
   "outputs": [],
   "source": [
    "\n",
    "font = {'family' : 'sans-serif',\n",
    "        'weight' : 'normal',\n",
    "        'size'   : 16}\n",
    "\n",
    "plt.rc('font', **font)\n",
    "plt.rcParams['axes.grid'] = True\n",
    "\n",
    "fig, (ax1, ax2, ax3) = plt.subplots(1, 3, sharey=True, sharex=True, figsize=(15, 4))\n",
    "ax2.scatter(ordered['polyjuice_edit_distance'], non_expert['polyjuice'])\n",
    "ax3.scatter(ordered['pplm_edit_distance'], non_expert['pplm'])\n",
    "ax1.scatter(ordered['relitc_edit_distance'], non_expert['relitc'])\n",
    "\n",
    "ax2.set_title('Polyjuice')\n",
    "ax3.set_title('PPLM')\n",
    "ax1.set_title('RELITC')\n",
    "\n",
    "ax1.set_ylabel('Fluency score')\n",
    "ax2.set_xlabel('Edit distance')\n",
    "\n",
    "plt.gcf().subplots_adjust(bottom=0.15)\n",
    "\n",
    "plt.savefig('fluency_edit_plot.png')\n",
    "\n",
    "print(\n",
    "    f\"\"\"\n",
    "    Pearson r perplexity factual vs counterfactual\n",
    "    Polyjuice: {scipy.stats.pearsonr(ordered['polyjuice_edit_distance'], non_expert['polyjuice'])}\n",
    "    PPLM: {scipy.stats.pearsonr(ordered['pplm_edit_distance'], non_expert['pplm'])}\n",
    "    RELITC: {scipy.stats.pearsonr(ordered['relitc_edit_distance'], non_expert['relitc'])}\n",
    "    \"\"\"\n",
    ")"
   ]
  },
  {
   "cell_type": "code",
   "execution_count": null,
   "id": "e59143e6",
   "metadata": {},
   "outputs": [],
   "source": [
    "for method in ['polyjuice', 'pplm', 'relitc']:\n",
    "    with open(f\"fig_data/{method}.dat\", 'w') as file:\n",
    "        file.write('edit_dist fluency\\n')\n",
    "        for a,b in zip(ordered[f'{method}_edit_distance'], non_expert[f'{method}']):\n",
    "            file.write(f'{a} {b}\\n')"
   ]
  },
  {
   "cell_type": "code",
   "execution_count": null,
   "id": "d08de224",
   "metadata": {},
   "outputs": [],
   "source": [
    "a = 0.5\n",
    "\n",
    "plt.scatter(ordered['pplm_edit_distance'], non_expert['pplm'], label='PPLM', alpha=a)\n",
    "plt.scatter(ordered['relitc_edit_distance'], non_expert['relitc'], label='RELITC', alpha=a)\n",
    "plt.scatter(ordered['polyjuice_edit_distance'], non_expert['polyjuice'], label='Polyjuice', alpha=a)\n",
    "plt.legend()\n",
    "\n",
    "plt.ylabel('Fluency score')\n",
    "plt.xlabel('Edit distance')\n",
    "\n",
    "plt.savefig('fluency_edit_plot.png')"
   ]
  },
  {
   "cell_type": "code",
   "execution_count": null,
   "id": "8fc619e5",
   "metadata": {},
   "outputs": [],
   "source": [
    "fluency = pd.concat([non_expert['polyjuice'], non_expert['pplm'], non_expert['relitc']])\n",
    "perplexity = pd.concat([ordered['polyjuice_perplexity'], ordered['pplm_perplexity'], ordered['relitc_perplexity']])\n",
    "perplexity_ratio = list(np.array(ordered['polyjuice_perplexity']) / np.array(ordered['factual_perplexity']))\\\n",
    "                + list(np.array(ordered['pplm_perplexity']) / np.array(ordered['factual_perplexity']))\\\n",
    "                + list(np.array(ordered['relitc_perplexity']) / np.array(ordered['factual_perplexity']))\n",
    "edit_dist = pd.concat([ordered['polyjuice_edit_distance'], ordered['pplm_edit_distance'], ordered['relitc_edit_distance']])\n",
    "tree_edit_dist = pd.concat([ordered['polyjuice_tree_edit_distance'], ordered['pplm_tree_edit_distance'], ordered['relitc_tree_edit_distance']])\n",
    "embedding_dist = pd.concat([ordered['polyjuice_embedding_distance'], ordered['pplm_embedding_distance'], ordered['relitc_embedding_distance']])\n",
    "implausibility = pd.concat([ordered['polyjuice_implausibility'], ordered['pplm_implausibility'], ordered['relitc_implausibility']])\n",
    "\n",
    "print(\n",
    "    f\"\"\"\n",
    "    Pearson r perplexity: {scipy.stats.pearsonr(fluency, perplexity)}\n",
    "    Pearson r perplexity ratio: {scipy.stats.pearsonr(fluency, perplexity_ratio)}\n",
    "    Pearson r edit distance: {scipy.stats.pearsonr(fluency, edit_dist)}\n",
    "    Pearson r tree edit distance: {scipy.stats.pearsonr(fluency, tree_edit_dist)}\n",
    "    Pearson r embedding distance: {scipy.stats.pearsonr(fluency, embedding_dist)}\n",
    "    Pearson r implausibility: {scipy.stats.pearsonr(fluency, implausibility)}\n",
    "    \"\"\"\n",
    ")"
   ]
  },
  {
   "cell_type": "code",
   "execution_count": null,
   "id": "13c605bc",
   "metadata": {},
   "outputs": [],
   "source": [
    "plt.scatter(tree_edit_dist, fluency)"
   ]
  },
  {
   "cell_type": "code",
   "execution_count": null,
   "id": "ef3fbf7e",
   "metadata": {},
   "outputs": [],
   "source": [
    "print(\n",
    "    f\"\"\"\n",
    "    Pearson r edit distance\n",
    "    Polyjuice: {scipy.stats.pearsonr(non_expert['polyjuice'], ordered['polyjuice_edit_distance'])}\n",
    "    PPLM: {scipy.stats.pearsonr(non_expert['pplm'], ordered['pplm_edit_distance'])}\n",
    "    RELITC: {scipy.stats.pearsonr(non_expert['relitc'], ordered['relitc_edit_distance'])}\n",
    "    \"\"\"\n",
    ")"
   ]
  },
  {
   "cell_type": "code",
   "execution_count": null,
   "id": "37c7699b",
   "metadata": {},
   "outputs": [],
   "source": [
    "expert = pd.read_csv('survey_results/expert_mean_results.csv').dropna()\n",
    "\n",
    "ids = np.array(expert['id'])\n",
    "\n",
    "ordered = counterfactuals.set_index('id').loc[ids-1]\n",
    "\n",
    "fluency = pd.concat([expert['polyjuice_fluency'], expert['pplm_fluency'], expert['relitc_fluency']])\n",
    "plausibility = pd.concat([expert['polyjuice_plausibility'], expert['pplm_plausibility'], expert['relitc_plausibility']])\n",
    "\n",
    "perplexity = pd.concat([ordered['polyjuice_perplexity'], ordered['pplm_perplexity'], ordered['relitc_perplexity']])\n",
    "perplexity_ratio = list(np.array(ordered['polyjuice_perplexity']) / np.array(ordered['factual_perplexity']))\\\n",
    "                + list(np.array(ordered['pplm_perplexity']) / np.array(ordered['factual_perplexity']))\\\n",
    "                + list(np.array(ordered['relitc_perplexity']) / np.array(ordered['factual_perplexity']))\n",
    "edit_dist = pd.concat([ordered['polyjuice_edit_distance'], ordered['pplm_edit_distance'], ordered['relitc_edit_distance']])\n",
    "tree_edit_dist = pd.concat([ordered['polyjuice_tree_edit_distance'], ordered['pplm_tree_edit_distance'], ordered['relitc_tree_edit_distance']])\n",
    "embedding_dist = pd.concat([ordered['polyjuice_embedding_distance'], ordered['pplm_embedding_distance'], ordered['relitc_embedding_distance']])\n",
    "implausibility = pd.concat([ordered['polyjuice_implausibility'], ordered['pplm_implausibility'], ordered['relitc_implausibility']])\n",
    "\n",
    "print(\n",
    "    f\"\"\"\n",
    "    Fluency\n",
    "    Pearson r perplexity: {scipy.stats.pearsonr(fluency, perplexity)}\n",
    "    Pearson r perplexity ratio: {scipy.stats.pearsonr(fluency, perplexity_ratio)}\n",
    "    Pearson r edit distance: {scipy.stats.pearsonr(fluency, edit_dist)}\n",
    "    Pearson r tree edit distance: {scipy.stats.pearsonr(fluency, tree_edit_dist)}\n",
    "    Pearson r embedding distance: {scipy.stats.pearsonr(fluency, embedding_dist)}\n",
    "    Pearson r implausibility: {scipy.stats.pearsonr(fluency, implausibility)}\n",
    "    \n",
    "    Plausibility\n",
    "    Pearson r perplexity: {scipy.stats.pearsonr(plausibility, perplexity)}\n",
    "    Pearson r perplexity ratio: {scipy.stats.pearsonr(plausibility, perplexity_ratio)}\n",
    "    Pearson r edit distance: {scipy.stats.pearsonr(plausibility, edit_dist)}\n",
    "    Pearson r tree edit distance: {scipy.stats.pearsonr(plausibility, tree_edit_dist)}\n",
    "    Pearson r embedding distance: {scipy.stats.pearsonr(plausibility, embedding_dist)}\n",
    "    Pearson r implausibility: {scipy.stats.pearsonr(plausibility, implausibility)}\n",
    "    \"\"\"\n",
    ")"
   ]
  },
  {
   "cell_type": "code",
   "execution_count": null,
   "id": "051ae7b7",
   "metadata": {},
   "outputs": [],
   "source": [
    "implausibility"
   ]
  },
  {
   "cell_type": "code",
   "execution_count": null,
   "id": "bc04cdbb",
   "metadata": {},
   "outputs": [],
   "source": [
    "plt.scatter(implausibility, plausibility)"
   ]
  },
  {
   "cell_type": "code",
   "execution_count": null,
   "id": "50e53355",
   "metadata": {},
   "outputs": [],
   "source": [
    "plt.scatter(fluency, plausibility)"
   ]
  },
  {
   "cell_type": "code",
   "execution_count": null,
   "id": "b28ee66c",
   "metadata": {},
   "outputs": [],
   "source": [
    "scipy.stats.pearsonr(fluency, plausibility)"
   ]
  },
  {
   "cell_type": "code",
   "execution_count": null,
   "id": "2ca292ea",
   "metadata": {},
   "outputs": [],
   "source": []
  }
 ],
 "metadata": {
  "kernelspec": {
   "display_name": "Python 3 (ipykernel)",
   "language": "python",
   "name": "python3"
  },
  "language_info": {
   "codemirror_mode": {
    "name": "ipython",
    "version": 3
   },
   "file_extension": ".py",
   "mimetype": "text/x-python",
   "name": "python",
   "nbconvert_exporter": "python",
   "pygments_lexer": "ipython3",
   "version": "3.12.3"
  }
 },
 "nbformat": 4,
 "nbformat_minor": 5
}
