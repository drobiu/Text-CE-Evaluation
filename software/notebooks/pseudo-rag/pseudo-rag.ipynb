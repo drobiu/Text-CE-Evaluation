{
 "cells": [
  {
   "cell_type": "code",
   "execution_count": null,
   "id": "548332fc",
   "metadata": {},
   "outputs": [],
   "source": [
    "import json\n",
    "import numpy as np\n",
    "import pandas as pd\n",
    "import openai\n",
    "import tqdm\n",
    "import transformers\n",
    "\n",
    "from datasets import load_dataset"
   ]
  },
  {
   "cell_type": "code",
   "execution_count": null,
   "id": "eb2b4eef",
   "metadata": {},
   "outputs": [],
   "source": [
    "with open('.openai_key', 'r') as f:\n",
    "    openai_key = f.read()\n",
    "    \n",
    "with open('.openai_org', 'r') as f:\n",
    "    openai_org = f.read()"
   ]
  },
  {
   "cell_type": "code",
   "execution_count": null,
   "id": "269d320e",
   "metadata": {},
   "outputs": [],
   "source": [
    "from openai import OpenAI\n",
    "client = OpenAI(\n",
    "    organization=openai_org,\n",
    "    api_key=openai_key,\n",
    ")"
   ]
  },
  {
   "cell_type": "code",
   "execution_count": null,
   "id": "18493bd1",
   "metadata": {},
   "outputs": [],
   "source": [
    "dataset_train = \"TextCEsInFinance/fomc-communication\"\n",
    "dataset_test = \"TextCEsInFinance/fomc-communication-counterfactual\"\n",
    "\n",
    "train = load_dataset(dataset_train)['train'].to_pandas()\n",
    "test = load_dataset(dataset_test)['test'].to_pandas()"
   ]
  },
  {
   "cell_type": "code",
   "execution_count": null,
   "id": "9b6c0866",
   "metadata": {},
   "outputs": [],
   "source": [
    "train_hawkish = train[train['text_label'] == 'hawkish']\n",
    "train_dovish = train[train['text_label'] == 'dovish']\n",
    "train_neutral = train[train['text_label'] == 'neutral']"
   ]
  },
  {
   "cell_type": "code",
   "execution_count": null,
   "id": "426fcc37",
   "metadata": {},
   "outputs": [],
   "source": [
    "classes = ['DOVISH', 'HAWKISH', 'NEUTRAL']\n",
    "class_map = {0: 'DOVISH', 1: 'HAWKISH', 2: 'NEUTRAL'}"
   ]
  },
  {
   "cell_type": "code",
   "execution_count": null,
   "id": "7b790b84",
   "metadata": {},
   "outputs": [],
   "source": [
    "classifier_fomc = \"gtfintechlab/FOMC-RoBERTa\"\n",
    "\n",
    "pipe = transformers.pipeline(model=classifier_fomc, device=0)"
   ]
  },
  {
   "cell_type": "code",
   "execution_count": null,
   "id": "58e937b9",
   "metadata": {},
   "outputs": [],
   "source": [
    "def generate_prompt(fact):\n",
    "    label = class_map[fact['label']]\n",
    "    target = class_map[fact['target']]\n",
    "\n",
    "    n_examples = 10\n",
    "\n",
    "    example_label = ''\n",
    "\n",
    "    for i, text in enumerate(train[train['text_label'] == label.lower()].sample(n=n_examples)['text']):\n",
    "        example_label += f'{i+1}. {text}\\n'\n",
    "\n",
    "    example_target = ''\n",
    "\n",
    "    for i, text in enumerate(train[train['text_label'] == target.lower()].sample(n=n_examples)['text']):\n",
    "        example_target += f'{i+1}. {text}\\n'\n",
    "\n",
    "\n",
    "    prompt = f\"\"\"A classification Machine Learning model classifies texts into three classes: {', '.join(classes)}. Your task is to transform a QUERY sentence that was classified as {label} into a COUNTERFACTUAL that should be classified as {target}. You can replace, remove or add words, but you should keep the amount of changes to minimum, only performing up to 5 changes. You can use the EXAMPLE {label} and EXAMPLE {target} sentences as examples how sentences belonging to those classes might look like. You should generate only one COUNTERFACTUAL sentence.\n",
    "\n",
    "    EXAMPLE {label}:\n",
    "    {example_label}\n",
    "\n",
    "    EXAMPLE {target}:\n",
    "    {example_target}\n",
    "\n",
    "    {label} QUERY: {fact['text']}\n",
    "\n",
    "    {target} COUNTERFACTUAL:\"\"\"\n",
    "\n",
    "    return prompt"
   ]
  },
  {
   "cell_type": "code",
   "execution_count": null,
   "id": "5097255a",
   "metadata": {},
   "outputs": [],
   "source": [
    "def classify(sentences):\n",
    "    classified = []\n",
    "    for out in pipe(sentences, batch_size=8, truncation=\"only_first\"):\n",
    "        label = out['label'].split(\"_\")[1]\n",
    "        out['label'] = int(label)\n",
    "        classified.append(out)\n",
    "    return classified"
   ]
  },
  {
   "cell_type": "code",
   "execution_count": null,
   "id": "40154b55",
   "metadata": {},
   "outputs": [],
   "source": [
    "results = []\n",
    "succ = 0\n",
    "\n",
    "for i, row in tqdm.tqdm(test.iterrows(), total=test.shape[0]):\n",
    "    \n",
    "    prompt = generate_prompt(row)\n",
    "\n",
    "    response = client.chat.completions.create(\n",
    "        model=\"gpt-4o\",\n",
    "        messages=[\n",
    "            {\"role\": \"user\", \"content\": prompt}\n",
    "        ],\n",
    "        n=5\n",
    "    )\n",
    "    \n",
    "    classifications = classify([x.message.content for x in response.choices])\n",
    "    \n",
    "    res = {\n",
    "        'index': row['index'],\n",
    "        'text': row['text'],\n",
    "        'label': row['label'],\n",
    "        'text_label': row['text_label'],\n",
    "        'target': row['target'],\n",
    "        'success': False,\n",
    "        'counterfactuals': []\n",
    "    }\n",
    "    \n",
    "    for cl, resp in zip(classifications, response.choices):\n",
    "        res['counterfactuals'].append({\n",
    "            'text': resp.message.content,\n",
    "            'label': cl['label'],\n",
    "            'score': cl['score']\n",
    "        })\n",
    "        \n",
    "        if cl['label'] == row['target']:\n",
    "            res['success'] = True\n",
    "            \n",
    "    if res['success']:\n",
    "        succ += 1\n",
    "        \n",
    "    results.append(res)\n",
    "    \n",
    "print(succ / len(results))\n",
    "        \n",
    "    "
   ]
  },
  {
   "cell_type": "code",
   "execution_count": null,
   "id": "0b54a32c",
   "metadata": {
    "scrolled": true
   },
   "outputs": [],
   "source": [
    "for res in results:\n",
    "    succ_ces = []\n",
    "    for ce in res['counterfactuals']:\n",
    "        if ce['label'] == res['target']:\n",
    "            succ_ces.append(ce)\n",
    "    \n",
    "    if len(succ_ces):\n",
    "        ce = sorted(succ_ces, key=lambda x: x['score'], reverse=True)[0]\n",
    "    \n",
    "        print(f\"{class_map[res['label']]}: {res['text']}\")\n",
    "        print(f\"{class_map[ce['label']]}: {ce['text']}\\n\")"
   ]
  },
  {
   "cell_type": "code",
   "execution_count": null,
   "id": "f977fcd0",
   "metadata": {},
   "outputs": [],
   "source": [
    "def np_encoder(object):\n",
    "    if isinstance(object, np.generic):\n",
    "        return object.item()"
   ]
  },
  {
   "cell_type": "code",
   "execution_count": null,
   "id": "5283f654",
   "metadata": {},
   "outputs": [],
   "source": [
    "with open('gpt-4o_results.json', 'w', encoding='utf-8') as file:\n",
    "    file.write(json.dumps(results, default=np_encoder, indent=4))"
   ]
  },
  {
   "cell_type": "code",
   "execution_count": null,
   "id": "b6ad04f3",
   "metadata": {},
   "outputs": [],
   "source": []
  }
 ],
 "metadata": {
  "kernelspec": {
   "display_name": "Python 3 (ipykernel)",
   "language": "python",
   "name": "python3"
  },
  "language_info": {
   "codemirror_mode": {
    "name": "ipython",
    "version": 3
   },
   "file_extension": ".py",
   "mimetype": "text/x-python",
   "name": "python",
   "nbconvert_exporter": "python",
   "pygments_lexer": "ipython3",
   "version": "3.12.3"
  }
 },
 "nbformat": 4,
 "nbformat_minor": 5
}
