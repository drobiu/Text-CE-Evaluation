{
 "cells": [
  {
   "cell_type": "code",
   "execution_count": null,
   "id": "106edf13",
   "metadata": {},
   "outputs": [],
   "source": [
    "import itertools\n",
    "import json\n",
    "import nltk\n",
    "import random\n",
    "import torch\n",
    "\n",
    "import numpy as np\n",
    "import pandas as pd\n",
    "\n",
    "from evaluate import load\n",
    "from scipy.spatial import distance\n",
    "from transformers import (\n",
    "    RobertaTokenizerFast,\n",
    "    RobertaForSequenceClassification,\n",
    "    TrainingArguments,\n",
    "    Trainer,\n",
    "    AutoConfig,\n",
    ")\n",
    "from zss import simple_distance, Node\n",
    "\n",
    "nltk.download('punkt')\n",
    "nltk.download('averaged_perceptron_tagger')\n",
    "from nltk import pos_tag, word_tokenize, RegexpParser"
   ]
  },
  {
   "cell_type": "code",
   "execution_count": null,
   "id": "33ef8203",
   "metadata": {},
   "outputs": [],
   "source": [
    "with open(\"results/pplm_results.json\", \"r\", encoding='utf-8') as file:\n",
    "    pplm = json.loads(file.read())\n",
    "with open(\"results/relitc_results.json\", \"r\", encoding='utf-8') as file:\n",
    "    relitc = json.load(file)\n",
    "with open(\"results/polyjuice_results.json\", \"r\", encoding='utf-8') as file:\n",
    "    polyjuice = json.loads(file.read())\n",
    "with open(\"results/gpt-4o-results.json\", \"r\", encoding='utf-8') as file:\n",
    "    poc = json.loads(file.read())\n",
    "with open(\"results/ground_truth.json\", \"r\", encoding='utf-8') as file:\n",
    "    gt = json.loads(file.read())"
   ]
  },
  {
   "cell_type": "markdown",
   "id": "500d8444",
   "metadata": {},
   "source": [
    "# Success rate"
   ]
  },
  {
   "cell_type": "code",
   "execution_count": null,
   "id": "f9feba13",
   "metadata": {},
   "outputs": [],
   "source": [
    "def success_rate(results):\n",
    "    i = 0\n",
    "    for row in results:\n",
    "        target = row['target']\n",
    "        row['success'] = False\n",
    "        for ce in row['counterfactuals']:\n",
    "            if ce['label'] == target:\n",
    "                i +=1\n",
    "                row['success'] = True\n",
    "                break\n",
    "                \n",
    "    return i / len(results)"
   ]
  },
  {
   "cell_type": "code",
   "execution_count": null,
   "id": "8bc7a1fa",
   "metadata": {},
   "outputs": [],
   "source": [
    "success_rate(pplm)"
   ]
  },
  {
   "cell_type": "code",
   "execution_count": null,
   "id": "1a81f26f",
   "metadata": {},
   "outputs": [],
   "source": [
    "success_rate(polyjuice)"
   ]
  },
  {
   "cell_type": "code",
   "execution_count": null,
   "id": "3c43618f",
   "metadata": {},
   "outputs": [],
   "source": [
    "success_rate(relitc)"
   ]
  },
  {
   "cell_type": "code",
   "execution_count": null,
   "id": "11c556cf",
   "metadata": {},
   "outputs": [],
   "source": [
    "success_rate(poc)"
   ]
  },
  {
   "cell_type": "markdown",
   "id": "41cdfd68",
   "metadata": {},
   "source": [
    "# Prepare counterfactuals"
   ]
  },
  {
   "cell_type": "code",
   "execution_count": null,
   "id": "c784903a",
   "metadata": {},
   "outputs": [],
   "source": [
    "def get_counterfactuals(results):\n",
    "    ces = []\n",
    "    for result in results:\n",
    "        if result['success']:\n",
    "            best = 0\n",
    "            string = ''\n",
    "            for ce in result['counterfactuals']:\n",
    "                if ce['label'] == result['target'] and ce['score'] > best:\n",
    "                    string = ce['text']\n",
    "                    best = ce['score']\n",
    "        else:\n",
    "            if len(result['counterfactuals']) == 0:\n",
    "                string = ''\n",
    "            else:\n",
    "                string = result['counterfactuals'][0]['text']\n",
    "                \n",
    "        string = string.replace(\"hawkish : \", \"\").replace(\"dovish : \", \"\").replace(\"neutral :\", \"\").capitalize()\n",
    "        if len(string) == 0:\n",
    "            string = None\n",
    "            \n",
    "        ces.append(string)\n",
    "    \n",
    "    return ces"
   ]
  },
  {
   "cell_type": "code",
   "execution_count": null,
   "id": "0a00c7f7",
   "metadata": {
    "scrolled": true
   },
   "outputs": [],
   "source": [
    "poc_indexes = [ce['index'] for ce in poc]\n",
    "\n",
    "relitc = [relitc[i] for i in poc_indexes]\n",
    "pplm = [pplm[i] for i in poc_indexes]\n",
    "polyjuice = [polyjuice[i] for i in poc_indexes]\n",
    "gt = [gt[i] for i in poc_indexes]"
   ]
  },
  {
   "cell_type": "code",
   "execution_count": null,
   "id": "184d3fe1",
   "metadata": {},
   "outputs": [],
   "source": [
    "relitc_ces = get_counterfactuals(relitc)\n",
    "pplm_ces = get_counterfactuals(pplm)\n",
    "polyjuice_ces = get_counterfactuals(polyjuice)\n",
    "poc_ces = get_counterfactuals(poc)\n",
    "\n",
    "relitc_success = [x['success'] for x in relitc]\n",
    "pplm_success = [x['success'] for x in pplm]\n",
    "polyjuice_success = [x['success'] for x in polyjuice]\n",
    "poc_success = [x['success'] for x in poc]\n",
    "\n",
    "factuals = [x['text'] for x in relitc]\n",
    "ids = [x['id'] for x in relitc]\n",
    "labels = [x['label'] for x in relitc]\n",
    "targets = [x['target'] for x in relitc]\n",
    "\n",
    "assert len(relitc_ces) == len(pplm_ces) == len(polyjuice_ces) == len(poc_ces) == len(factuals) == len(ids)"
   ]
  },
  {
   "cell_type": "code",
   "execution_count": null,
   "id": "8d65c727",
   "metadata": {},
   "outputs": [],
   "source": [
    "data = {\n",
    "    'id': ids,\n",
    "    'factual': factuals,\n",
    "    'polyjuice': polyjuice_ces,\n",
    "    'pplm': pplm_ces,\n",
    "    'poc': poc_ces,\n",
    "    'relitc': relitc_ces,\n",
    "    'label': labels,\n",
    "    'target': targets,\n",
    "    'polyjuice_success': polyjuice_success,\n",
    "    'pplm_success': pplm_success,\n",
    "    'relitc_success': relitc_success,\n",
    "    'poc_success': poc_success\n",
    "}\n",
    "\n",
    "counterfactuals = pd.DataFrame.from_dict(data).dropna()"
   ]
  },
  {
   "cell_type": "code",
   "execution_count": null,
   "id": "1a248de9",
   "metadata": {},
   "outputs": [],
   "source": [
    "#counterfactuals = pd.read_csv('metrics_calculated.csv')"
   ]
  },
  {
   "cell_type": "markdown",
   "id": "260a4e28",
   "metadata": {},
   "source": [
    "# Faithfulness (naive)"
   ]
  },
  {
   "cell_type": "code",
   "execution_count": null,
   "id": "9d2acba2",
   "metadata": {},
   "outputs": [],
   "source": [
    "def faithfulness(results):\n",
    "    res = []\n",
    "    for row, gt_row in zip(results, gt):\n",
    "        if len(row['counterfactuals']) == 0:\n",
    "            continue\n",
    "        \n",
    "        r = 1 * (gt_row['label'] == gt_row['classification']['label'])\n",
    "        \n",
    "        if not row['success']:\n",
    "            nce = np.random.choice(row['counterfactuals'], size=1)\n",
    "            if nce[0]['label'] == gt_row['label']:\n",
    "                r -= 1\n",
    "                \n",
    "        res.append(r)\n",
    "                \n",
    "    return np.mean(res), np.std(res)"
   ]
  },
  {
   "cell_type": "code",
   "execution_count": null,
   "id": "6bb5e4f2",
   "metadata": {},
   "outputs": [],
   "source": [
    "faithfulness(polyjuice)"
   ]
  },
  {
   "cell_type": "code",
   "execution_count": null,
   "id": "94f01c8b",
   "metadata": {},
   "outputs": [],
   "source": [
    "faithfulness(pplm)"
   ]
  },
  {
   "cell_type": "code",
   "execution_count": null,
   "id": "6ca0031d",
   "metadata": {},
   "outputs": [],
   "source": [
    "faithfulness(relitc)"
   ]
  },
  {
   "cell_type": "code",
   "execution_count": null,
   "id": "bca62ec2",
   "metadata": {
    "scrolled": true
   },
   "outputs": [],
   "source": [
    "faithfulness(poc)"
   ]
  },
  {
   "cell_type": "markdown",
   "id": "7a72d1f0",
   "metadata": {},
   "source": [
    "# Perplexity"
   ]
  },
  {
   "cell_type": "code",
   "execution_count": null,
   "id": "357ecd36",
   "metadata": {},
   "outputs": [],
   "source": [
    "perplexity = load(\"perplexity\", module_type=\"metric\")\n",
    "model_id = 'gpt2'\n",
    "row_ending = ''"
   ]
  },
  {
   "cell_type": "code",
   "execution_count": null,
   "id": "fe3f19b6",
   "metadata": {
    "scrolled": false
   },
   "outputs": [],
   "source": [
    "perplexity_factual = perplexity.compute(predictions=counterfactuals['factual'], model_id=model_id)\n",
    "\n",
    "perplexity_pplm = perplexity.compute(predictions=counterfactuals['pplm'], model_id=model_id)\n",
    "\n",
    "perplexity_relitc = perplexity.compute(predictions=counterfactuals['relitc'], model_id=model_id)\n",
    "\n",
    "perplexity_polyjuice = perplexity.compute(predictions=counterfactuals['polyjuice'], model_id=model_id)\n",
    "\n",
    "perplexity_poc = perplexity.compute(predictions=counterfactuals['poc'], model_id=model_id)"
   ]
  },
  {
   "cell_type": "code",
   "execution_count": null,
   "id": "0d5454a8",
   "metadata": {},
   "outputs": [],
   "source": [
    "print(f\"Mean perplexity: PPLM {perplexity_pplm['mean_perplexity']}, RELITC {perplexity_relitc['mean_perplexity']}, Polyjuice {perplexity_polyjuice['mean_perplexity']}, POC {perplexity_poc['mean_perplexity']}\")"
   ]
  },
  {
   "cell_type": "code",
   "execution_count": null,
   "id": "0b39975b",
   "metadata": {},
   "outputs": [],
   "source": [
    "counterfactuals[f'polyjuice_perplexity{row_ending}'] = perplexity_polyjuice['perplexities']\n",
    "counterfactuals[f'poc_perplexity{row_ending}'] = perplexity_poc['perplexities']\n",
    "counterfactuals[f'pplm_perplexity{row_ending}'] = perplexity_pplm['perplexities']\n",
    "counterfactuals[f'relitc_perplexity{row_ending}'] = perplexity_relitc['perplexities']\n",
    "counterfactuals[f'factual_perplexity{row_ending}'] = perplexity_factual['perplexities']"
   ]
  },
  {
   "cell_type": "code",
   "execution_count": null,
   "id": "703aad1a",
   "metadata": {},
   "outputs": [],
   "source": [
    "perp_ratio_polyjuice = np.mean(np.array(counterfactuals[f'polyjuice_perplexity{row_ending}'])/np.array(counterfactuals[f'factual_perplexity{row_ending}']))\n",
    "perp_ratio_poc = np.mean(np.array(counterfactuals[f'poc_perplexity{row_ending}'])/np.array(counterfactuals[f'factual_perplexity{row_ending}']))\n",
    "perp_ratio_pplm = np.mean(np.array(counterfactuals[f'pplm_perplexity{row_ending}'])/np.array(counterfactuals[f'factual_perplexity{row_ending}']))\n",
    "perp_ratio_relitc = np.mean(np.array(counterfactuals[f'relitc_perplexity{row_ending}'])/np.array(counterfactuals[f'factual_perplexity{row_ending}']))"
   ]
  },
  {
   "cell_type": "code",
   "execution_count": null,
   "id": "08393d1f",
   "metadata": {},
   "outputs": [],
   "source": [
    "print(f\"Mean perplexity ratio: PPLM {perp_ratio_pplm}, RELITC {perp_ratio_relitc}, Polyjuice {perp_ratio_polyjuice}, POC {perp_ratio_poc}\")"
   ]
  },
  {
   "cell_type": "markdown",
   "id": "e472249f",
   "metadata": {},
   "source": [
    "# Edit Distance"
   ]
  },
  {
   "cell_type": "code",
   "execution_count": null,
   "id": "74dd5b8f",
   "metadata": {},
   "outputs": [],
   "source": [
    "# https://github.com/RedTeamingforLLMs/RedTeamingforLLMs/blob/main/utils/metrics.py\n",
    "def levenshtein(a, b):\n",
    "    # We want a to be the (potentially) longer string\n",
    "    if len(a) > len(b):\n",
    "        a, b = b, a\n",
    "\n",
    "    distances = range(len(a) + 1)\n",
    "    for b_index, b_element in enumerate(b):\n",
    "        min_distances = [b_index + 1]\n",
    "\n",
    "        for a_index, a_element in enumerate(a):\n",
    "            if a_element == b_element:\n",
    "                min_distances.append(distances[a_index])\n",
    "            else:\n",
    "                min_distances.append(\n",
    "                    1 + min(distances[a_index], distances[a_index + 1], min_distances[-1]))\n",
    "\n",
    "        distances = min_distances\n",
    "    return distances[0 - 1]"
   ]
  },
  {
   "cell_type": "code",
   "execution_count": null,
   "id": "1b4fe8bf",
   "metadata": {},
   "outputs": [],
   "source": [
    "pplm_dist = [levenshtein(cont, fact)/len(fact) for cont, fact in zip(counterfactuals['pplm'], counterfactuals['factual'])]\n",
    "\n",
    "relitc_dist = [levenshtein(cont, fact)/len(fact) for cont, fact in zip(counterfactuals['relitc'], counterfactuals['factual'])]\n",
    "\n",
    "polyjuice_dist = [levenshtein(cont, fact)/len(fact) for cont, fact in zip(counterfactuals['polyjuice'], counterfactuals['factual'])]\n",
    "\n",
    "poc_dist = [levenshtein(cont, fact)/len(fact) for cont, fact in zip(counterfactuals['poc'], counterfactuals['factual'])]"
   ]
  },
  {
   "cell_type": "code",
   "execution_count": null,
   "id": "e0cd0a2c",
   "metadata": {},
   "outputs": [],
   "source": [
    "print(f\"Mean edit distance: PPLM {np.mean(pplm_dist)}, RELITC {np.mean(relitc_dist)}, Polyjuice {np.mean(polyjuice_dist)}, POC {np.mean(poc_dist)}\")"
   ]
  },
  {
   "cell_type": "code",
   "execution_count": null,
   "id": "60dd8968",
   "metadata": {},
   "outputs": [],
   "source": [
    "counterfactuals['polyjuice_edit_distance'] = polyjuice_dist\n",
    "counterfactuals['poc_edit_distance'] = poc_dist\n",
    "counterfactuals['pplm_edit_distance'] = pplm_dist\n",
    "counterfactuals['relitc_edit_distance'] = relitc_dist"
   ]
  },
  {
   "cell_type": "markdown",
   "id": "6219ffa0",
   "metadata": {},
   "source": [
    "# Tree edit distance"
   ]
  },
  {
   "cell_type": "code",
   "execution_count": null,
   "id": "4e400579",
   "metadata": {},
   "outputs": [],
   "source": [
    "# Source: https://www.geeksforgeeks.org/syntax-tree-natural-language-processing/\n",
    "\n",
    "#Extract all parts of speech from any text\n",
    "chunker = RegexpParser(\"\"\"\n",
    "                       NP: {<DT>?<JJ>*<NN>}    #To extract Noun Phrases\n",
    "                       P: {<IN>}               #To extract Prepositions\n",
    "                       V: {<V.*>}              #To extract Verbs\n",
    "                       PP: {<p> <NP>}          #To extract Prepositional Phrases\n",
    "                       VP: {<V> <NP|PP>*}      #To extract Verb Phrases\n",
    "                       \"\"\")\n",
    "\n",
    "def get_tree(text):\n",
    "    # Find all parts of speech in above sentence\n",
    "    tagged = pos_tag(word_tokenize(text))\n",
    "\n",
    "    # Print all parts of speech in above sentence\n",
    "    output = chunker.parse(tagged)\n",
    "    return output"
   ]
  },
  {
   "cell_type": "code",
   "execution_count": null,
   "id": "e291f4ae",
   "metadata": {},
   "outputs": [],
   "source": [
    "def traverse_tree(tree):\n",
    "    \n",
    "    zss_tree = Node(tree.label())\n",
    "    \n",
    "    for subtree in tree:\n",
    "        if type(subtree) == nltk.tree.Tree:\n",
    "            zss_tree = zss_tree.addkid(traverse_tree(subtree))\n",
    "        else:\n",
    "            zss_tree = zss_tree.addkid(Node(subtree[0]))\n",
    "            \n",
    "    return zss_tree"
   ]
  },
  {
   "cell_type": "code",
   "execution_count": null,
   "id": "11359e6d",
   "metadata": {},
   "outputs": [],
   "source": [
    "def get_zss(text):\n",
    "    \n",
    "    tree = get_tree(text)\n",
    "    \n",
    "    return traverse_tree(tree)"
   ]
  },
  {
   "cell_type": "code",
   "execution_count": null,
   "id": "905086c5",
   "metadata": {},
   "outputs": [],
   "source": [
    "def tree_edit_dist(text_a, text_b):\n",
    "    return simple_distance(get_zss(text_a), get_zss(text_b))"
   ]
  },
  {
   "cell_type": "code",
   "execution_count": null,
   "id": "351ce0ef",
   "metadata": {},
   "outputs": [],
   "source": [
    "pplm_tree_dist = [tree_edit_dist(cont, fact) for cont, fact in zip(counterfactuals['pplm'], counterfactuals['factual'])]\n",
    "relitc_tree_dist = [tree_edit_dist(cont, fact) for cont, fact in zip(counterfactuals['relitc'], counterfactuals['factual'])]\n",
    "polyjuice_tree_dist = [tree_edit_dist(cont, fact) for cont, fact in zip(counterfactuals['polyjuice'], counterfactuals['factual'])]\n",
    "poc_tree_dist = [tree_edit_dist(cont, fact) for cont, fact in zip(counterfactuals['poc'], counterfactuals['factual'])]"
   ]
  },
  {
   "cell_type": "code",
   "execution_count": null,
   "id": "e75cd0bd",
   "metadata": {},
   "outputs": [],
   "source": [
    "print(f\"Mean tree edit distance: PPLM {np.mean(pplm_tree_dist)}, RELITC {np.mean(relitc_tree_dist)}, Polyjuice {np.mean(polyjuice_tree_dist)}, POC {np.mean(poc_tree_dist)}\")"
   ]
  },
  {
   "cell_type": "code",
   "execution_count": null,
   "id": "bec7396f",
   "metadata": {},
   "outputs": [],
   "source": [
    "counterfactuals['polyjuice_tree_edit_distance'] = polyjuice_tree_dist\n",
    "counterfactuals['poc_tree_edit_distance'] = poc_tree_dist\n",
    "counterfactuals['pplm_tree_edit_distance'] = pplm_tree_dist\n",
    "counterfactuals['relitc_tree_edit_distance'] = relitc_tree_dist"
   ]
  },
  {
   "cell_type": "markdown",
   "id": "6ee67922",
   "metadata": {},
   "source": [
    "# Embedding distance"
   ]
  },
  {
   "cell_type": "code",
   "execution_count": null,
   "id": "bd70be21",
   "metadata": {},
   "outputs": [],
   "source": [
    "model_id = \"gtfintechlab/FOMC-RoBERTa\"\n",
    "tokenizer = RobertaTokenizerFast.from_pretrained(model_id)\n",
    "config = AutoConfig.from_pretrained(model_id)\n",
    "model = RobertaForSequenceClassification.from_pretrained(model_id, config=config).cuda()\n"
   ]
  },
  {
   "cell_type": "code",
   "execution_count": null,
   "id": "b982cb4b",
   "metadata": {},
   "outputs": [],
   "source": [
    "def get_embeddings(texts):\n",
    "    idxs = [x for x in range(0, len(texts), 32)]\n",
    "    idxs.append(len(texts))\n",
    "\n",
    "    hiddens = []\n",
    "    for i in range(len(idxs)-1):\n",
    "        tokens = tokenizer(texts[idxs[i]:idxs[i+1]], return_tensors=\"pt\", padding=True).to('cuda')\n",
    "        embedding = model(**tokens, output_hidden_states=True).hidden_states[-1].detach()[:, -1, :]\n",
    "        hiddens += embedding\n",
    "    return torch.stack(hiddens).cpu()"
   ]
  },
  {
   "cell_type": "code",
   "execution_count": null,
   "id": "f2a6a696",
   "metadata": {},
   "outputs": [],
   "source": [
    "names = ['polyjuice', 'poc', 'pplm', 'relitc']\n",
    "classes = [0, 1, 2]\n",
    "\n",
    "embeddings = {}\n",
    "cl_emb = {c: get_embeddings(counterfactuals['factual'][counterfactuals['label'] == c].to_list()) for c in classes}\n",
    "embeddings['factual'] = cl_emb\n",
    "\n",
    "for name in names:    \n",
    "    cl_emb = get_embeddings(counterfactuals[name].to_list())\n",
    "    embeddings[name] = cl_emb"
   ]
  },
  {
   "cell_type": "code",
   "execution_count": null,
   "id": "abf00aae",
   "metadata": {},
   "outputs": [],
   "source": [
    "def get_embedding_distance(cfs):\n",
    "    out = []\n",
    "    for i in range(len(counterfactuals)):\n",
    "        out.append(np.min(distance.cdist([cfs[i]], embeddings['factual'][counterfactuals.iloc[i]['target']])))\n",
    "    return out"
   ]
  },
  {
   "cell_type": "code",
   "execution_count": null,
   "id": "765a8486",
   "metadata": {},
   "outputs": [],
   "source": [
    "counterfactuals['polyjuice_embedding_distance'] = get_embedding_distance(embeddings['polyjuice'])\n",
    "counterfactuals['poc_embedding_distance'] = get_embedding_distance(embeddings['poc'])\n",
    "counterfactuals['pplm_embedding_distance'] = get_embedding_distance(embeddings['pplm'])\n",
    "counterfactuals['relitc_embedding_distance'] = get_embedding_distance(embeddings['relitc'])"
   ]
  },
  {
   "cell_type": "code",
   "execution_count": null,
   "id": "5deb526b",
   "metadata": {},
   "outputs": [],
   "source": [
    "min_distances = {name: {cl: distance.cdist(embeddings[name], embeddings['factual'][cl]).min(axis=1) for cl in classes} for name in names}"
   ]
  },
  {
   "cell_type": "code",
   "execution_count": null,
   "id": "6eed0b97",
   "metadata": {},
   "outputs": [],
   "source": [
    "min_distances_mean = {name: np.mean(np.concatenate([min_distances[name][cl] for cl in classes])) for name in names}"
   ]
  },
  {
   "cell_type": "code",
   "execution_count": null,
   "id": "27918562",
   "metadata": {},
   "outputs": [],
   "source": [
    "min_distances_mean"
   ]
  },
  {
   "cell_type": "code",
   "execution_count": null,
   "id": "1afbd79d",
   "metadata": {},
   "outputs": [],
   "source": [
    "n_samples = 50\n",
    "indices = {c: torch.randperm(len(embeddings['factual'][c]))[:n_samples] for c in classes} # Random indices for subsampling target class embeddings\n",
    "\n",
    "def get_implausibility(cfs):\n",
    "    out = []\n",
    "    for i in range(len(counterfactuals)):\n",
    "        target = counterfactuals.iloc[i]['target']\n",
    "        out.append(np.mean(distance.cdist([cfs[i]], embeddings['factual'][target][indices[target]])))\n",
    "    return out"
   ]
  },
  {
   "cell_type": "code",
   "execution_count": null,
   "id": "03c8371c",
   "metadata": {},
   "outputs": [],
   "source": [
    "implausibilities = {name: get_implausibility(embeddings[name]) for name in names}"
   ]
  },
  {
   "cell_type": "code",
   "execution_count": null,
   "id": "352f74c2",
   "metadata": {},
   "outputs": [],
   "source": [
    "implausibilities_mean = {name: np.mean(implausibilities[name]) for name in implausibilities}"
   ]
  },
  {
   "cell_type": "code",
   "execution_count": null,
   "id": "695b8dce",
   "metadata": {},
   "outputs": [],
   "source": [
    "implausibilities_mean"
   ]
  },
  {
   "cell_type": "code",
   "execution_count": null,
   "id": "070317bc",
   "metadata": {},
   "outputs": [],
   "source": [
    "for name in ['poc', 'polyjuice', 'pplm', 'relitc']:\n",
    "    counterfactuals[f'{name}_implausibility'] = implausibilities[name]"
   ]
  },
  {
   "cell_type": "code",
   "execution_count": null,
   "id": "993639f8",
   "metadata": {},
   "outputs": [],
   "source": [
    "counterfactuals.to_csv('metrics_calculated.csv')"
   ]
  },
  {
   "cell_type": "markdown",
   "id": "638f2371",
   "metadata": {},
   "source": [
    "# Tables"
   ]
  },
  {
   "cell_type": "code",
   "execution_count": null,
   "id": "f2f9f7f8",
   "metadata": {},
   "outputs": [],
   "source": [
    "counterfactuals = pd.read_csv('metrics_calculated.csv')"
   ]
  },
  {
   "cell_type": "code",
   "execution_count": null,
   "id": "a8181250",
   "metadata": {},
   "outputs": [],
   "source": [
    "counterfactuals[['polyjuice_success', 'pplm_success', 'relitc_success']]"
   ]
  },
  {
   "cell_type": "code",
   "execution_count": null,
   "id": "854d18db",
   "metadata": {},
   "outputs": [],
   "source": [
    "def get_table(df, success_only=False):\n",
    "    generators = ['POC', 'Polyjuice', 'PPLM', 'RELITC']\n",
    "\n",
    "    metrics = [\n",
    "        ('Perplexity', [], []),\n",
    "        ('Perplexity ratio', [], []),\n",
    "        ('Edit distance', [], []),\n",
    "        ('Tree edit distance', [], []),\n",
    "        ('Embedding distance', [], []),\n",
    "        ('Implausibility', [], []),\n",
    "        ('Success rate', [], []),\n",
    "    ]\n",
    "    \n",
    "    for generator in generators:\n",
    "        curr_df = df\n",
    "        gen_lower = generator.lower()\n",
    "        \n",
    "        if success_only:\n",
    "            curr_df = df[df[f'{gen_lower}_success'] == True]\n",
    "        \n",
    "        metrics[0][1].append(np.mean(curr_df[f'{gen_lower}_perplexity']))\n",
    "        metrics[1][1].append(np.mean(np.array(curr_df[f'{gen_lower}_perplexity'])/np.array(curr_df[f'factual_perplexity'])))\n",
    "        metrics[2][1].append(np.mean(curr_df[f'{gen_lower}_edit_distance']))\n",
    "        metrics[3][1].append(np.mean(curr_df[f'{gen_lower}_tree_edit_distance']))\n",
    "        metrics[4][1].append(np.mean(curr_df[f'{gen_lower}_embedding_distance']))\n",
    "        metrics[5][1].append(np.mean(curr_df[f'{gen_lower}_implausibility']))\n",
    "        metrics[6][1].append(np.mean(curr_df[f'{gen_lower}_success']))\n",
    "        \n",
    "        metrics[0][2].append(np.std(curr_df[f'{gen_lower}_perplexity']))\n",
    "        metrics[1][2].append(np.std(np.array(curr_df[f'{gen_lower}_perplexity'])/np.array(curr_df[f'factual_perplexity'])))\n",
    "        metrics[2][2].append(np.std(curr_df[f'{gen_lower}_edit_distance']))\n",
    "        metrics[3][2].append(np.std(curr_df[f'{gen_lower}_tree_edit_distance']))\n",
    "        metrics[4][2].append(np.std(curr_df[f'{gen_lower}_embedding_distance']))\n",
    "        metrics[5][2].append(np.std(curr_df[f'{gen_lower}_implausibility']))\n",
    "        metrics[6][2].append(np.std(curr_df[f'{gen_lower}_success']))\n",
    "        \n",
    "    \n",
    "    out = ''\n",
    "    \n",
    "    out += '|   |'\n",
    "    for metric in metrics:\n",
    "        out += f' {metric[0]} |'\n",
    "    \n",
    "    out += '\\n'\n",
    "    out += '|---|'\n",
    "    \n",
    "    for _ in range(len(metrics)):\n",
    "        out += f'---|'\n",
    "        \n",
    "    out += '\\n'\n",
    "    \n",
    "    for i, gen in enumerate(generators):\n",
    "        \n",
    "        out += f'| {gen} |'\n",
    "        \n",
    "        for metric in metrics:\n",
    "            out += f' {metric[1][i]:.2f} ({metric[2][i]:.1f}) |'\n",
    "            \n",
    "        out += '\\n'\n",
    "        \n",
    "    return out   "
   ]
  },
  {
   "cell_type": "code",
   "execution_count": null,
   "id": "39671123",
   "metadata": {},
   "outputs": [],
   "source": [
    "print(get_table(counterfactuals))"
   ]
  },
  {
   "cell_type": "markdown",
   "id": "af53a3a1",
   "metadata": {},
   "source": [
    "|   | Perplexity | Perplexity ratio | Edit distance | Tree edit distance | Embedding distance | Success rate |\n",
    "|---|---|---|---|---|---|---|\n",
    "| POC | 74.000 | 1.373 | 0.293 | 19.400 | 24.863 | 0.880 |\n",
    "| Polyjuice | 86.485 | 1.577 | 0.264 | 17.360 | 24.779 | 0.360 |\n",
    "| PPLM | 37.113 | 0.761 | 0.565 | 37.480 | 24.974 | 0.520 |\n",
    "| RELITC | 86.723 | 1.536 | 0.127 | 11.000 | 25.832 | 0.800 |"
   ]
  },
  {
   "cell_type": "code",
   "execution_count": null,
   "id": "119924a3",
   "metadata": {
    "scrolled": true
   },
   "outputs": [],
   "source": [
    "print(get_table(counterfactuals, True))"
   ]
  },
  {
   "cell_type": "markdown",
   "id": "387e9550",
   "metadata": {},
   "source": [
    "|   | Perplexity | Perplexity ratio | Edit distance | Tree edit distance | Embedding distance | Success rate |\n",
    "|---|---|---|---|---|---|---|\n",
    "| POC | 76.485 | 1.340 | 0.301 | 20.455 | 24.448 | 1.000 |\n",
    "| Polyjuice | 101.116 | 1.456 | 0.268 | 17.000 | 23.498 | 1.000 |\n",
    "| PPLM | 33.623 | 0.671 | 0.631 | 34.308 | 23.296 | 1.000 |\n",
    "| RELITC | 87.206 | 1.484 | 0.098 | 10.350 | 25.703 | 1.000 |"
   ]
  },
  {
   "cell_type": "code",
   "execution_count": null,
   "id": "220f1ecd",
   "metadata": {},
   "outputs": [],
   "source": []
  }
 ],
 "metadata": {
  "kernelspec": {
   "display_name": "Python 3 (ipykernel)",
   "language": "python",
   "name": "python3"
  },
  "language_info": {
   "codemirror_mode": {
    "name": "ipython",
    "version": 3
   },
   "file_extension": ".py",
   "mimetype": "text/x-python",
   "name": "python",
   "nbconvert_exporter": "python",
   "pygments_lexer": "ipython3",
   "version": "3.12.3"
  }
 },
 "nbformat": 4,
 "nbformat_minor": 5
}
